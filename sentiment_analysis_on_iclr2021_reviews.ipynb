{
  "nbformat": 4,
  "nbformat_minor": 0,
  "metadata": {
    "accelerator": "GPU",
    "colab": {
      "name": "sentiment-analysis-on-iclr2021-reviews.ipynb",
      "provenance": [],
      "collapsed_sections": [
        "_rIlcvy1bGf2",
        "uKuFHDW_fU6j",
        "m2vF6d5ygesb",
        "nH4FGf9IguOO",
        "g6DY2KakhAEf",
        "n85IfkcBoxGn",
        "RiAVjieXhtgp",
        "j_y9oLm1rcSr",
        "OEUpK2cd9yoU",
        "1aPBqu4fmJxB",
        "Nw-2MLRmn36a",
        "Ie9OR4_fkRi6",
        "0H1Y_yAq2LZM"
      ],
      "toc_visible": true,
      "machine_shape": "hm"
    },
    "kernelspec": {
      "display_name": "Python 3",
      "name": "python3"
    }
  },
  "cells": [
    {
      "cell_type": "markdown",
      "metadata": {
        "id": "4cbgwZWWfWpp"
      },
      "source": [
        "#Sentiment Analysis with an RNN\r\n",
        "\r\n",
        "Analysis also recognizes that the study of ideas refers to the identification, extraction and study of emotional states through natural language processing, textual analysis, computer languages ​​and biometrics."
      ]
    },
    {
      "cell_type": "markdown",
      "metadata": {
        "id": "_rIlcvy1bGf2"
      },
      "source": [
        "### Imports"
      ]
    },
    {
      "cell_type": "code",
      "metadata": {
        "id": "tAb77yZ9fzMG",
        "colab": {
          "base_uri": "https://localhost:8080/"
        },
        "outputId": "b86d3ae9-50a4-4174-c60b-0e5007af5ec7"
      },
      "source": [
        "import os\r\n",
        "\r\n",
        "# Time\r\n",
        "import time\r\n",
        "import datetime\r\n",
        "\r\n",
        "# Numerical\r\n",
        "import numpy as np\r\n",
        "import pandas as pd\r\n",
        "\r\n",
        "# Tools\r\n",
        "import itertools\r\n",
        "from collections import Counter\r\n",
        "\r\n",
        "# NLP\r\n",
        "import re\r\n",
        "import nltk\r\n",
        "nltk.download('wordnet')\r\n",
        "nltk.download('stopwords')\r\n",
        "from nltk.corpus import stopwords\r\n",
        "from nltk.stem.wordnet import WordNetLemmatizer\r\n",
        "from nltk.stem.porter import PorterStemmer\r\n",
        "\r\n",
        "# Preprocessing\r\n",
        "import string\r\n",
        "from sklearn import svm\r\n",
        "from sklearn import preprocessing\r\n",
        "from sklearn.svm import LinearSVC\r\n",
        "from sklearn.utils import class_weight as cw\r\n",
        "from sklearn.feature_extraction.text import CountVectorizer, TfidfVectorizer\r\n",
        "#from sklearn.feature_extraction.text import TfidfVectorizer\r\n",
        "from sklearn.preprocessing import LabelEncoder, MultiLabelBinarizer, StandardScaler\r\n",
        "#from sklearn.preprocessing import StandardScaler\r\n",
        "#from sklearn.preprocessing import MultiLabelBinarizer\r\n",
        "#from sklearn.model_selection import *\r\n",
        "from sklearn.linear_model import SGDClassifier, LogisticRegression\r\n",
        "#from sklearn.linear_model import LogisticRegression\r\n",
        "from sklearn.pipeline import make_pipeline\r\n",
        "from sklearn.multiclass import OneVsRestClassifier\r\n",
        "\r\n",
        "# Model Selection\r\n",
        "from sklearn.model_selection import train_test_split\r\n",
        "\r\n",
        "# Evaluation Metrics\r\n",
        "from sklearn import metrics \r\n",
        "from sklearn.metrics import f1_score, accuracy_score,confusion_matrix,classification_report\r\n",
        "\r\n",
        "# Deep Learing Preprocessing - Keras\r\n",
        "import keras\r\n",
        "from tensorflow import keras\r\n",
        "from tensorflow.keras import layers\r\n",
        "# from keras.preprocessing.text import Tokenizer\r\n",
        "# from keras.preprocessing.sequence import pad_sequences\r\n",
        "from keras.utils import to_categorical\r\n",
        "\r\n",
        "# Deep Learning Model - Keras\r\n",
        "from keras.models import Model, Sequential, load_model\r\n",
        "#from keras.models import Sequential, load_model\r\n",
        "\r\n",
        "# Deep Learning Model - Keras - RNN\r\n",
        "from keras.layers import LSTM, Embedding, Bidirectional\r\n",
        "#from keras.layers import Dense, Embedding\r\n",
        "\r\n",
        "# Deep Learning Model - Keras - General\r\n",
        "from keras.initializers import Constant\r\n",
        "from keras.layers import Input, Add, concatenate, Dense, Activation, BatchNormalization, Dropout, Flatten, GlobalMaxPooling1D, Conv1D\r\n",
        "from keras.layers import LeakyReLU, PReLU, Lambda, Multiply\r\n",
        "\r\n",
        "from keras.preprocessing import sequence\r\n",
        "from keras import regularizers\r\n",
        "\r\n",
        "# Multi-layer Perceptron classifier (MLP)\r\n",
        "from sklearn.decomposition import PCA\r\n",
        "from sklearn.model_selection import GridSearchCV\r\n",
        "from sklearn.datasets import fetch_lfw_people\r\n",
        "#from time import time\r\n",
        "from sklearn.neural_network import MLPClassifier\r\n",
        "import logging\r\n",
        "\r\n",
        "# Deep Learning Parameters - Keras\r\n",
        "from keras.optimizers import RMSprop, Adam\r\n",
        "\r\n",
        "# Visualization\r\n",
        "import matplotlib.pyplot as plt\r\n",
        "import seaborn as sns\r\n",
        "\r\n",
        "from fastai.imports import *\r\n",
        "from fastai.text import *"
      ],
      "execution_count": 1,
      "outputs": [
        {
          "output_type": "stream",
          "text": [
            "[nltk_data] Downloading package wordnet to /root/nltk_data...\n",
            "[nltk_data]   Unzipping corpora/wordnet.zip.\n",
            "[nltk_data] Downloading package stopwords to /root/nltk_data...\n",
            "[nltk_data]   Unzipping corpora/stopwords.zip.\n"
          ],
          "name": "stdout"
        }
      ]
    },
    {
      "cell_type": "code",
      "metadata": {
        "id": "C-3bfwyLvyWF"
      },
      "source": [
        "path = Path(os.path.abspath(os.curdir))"
      ],
      "execution_count": 2,
      "outputs": []
    },
    {
      "cell_type": "markdown",
      "metadata": {
        "id": "uKuFHDW_fU6j"
      },
      "source": [
        "### Loading in Dataset"
      ]
    },
    {
      "cell_type": "code",
      "metadata": {
        "id": "pafL7Li0jyXW",
        "colab": {
          "base_uri": "https://localhost:8080/",
          "height": 0
        },
        "outputId": "528d53cc-e317-48a2-ab4b-765b0e23b936"
      },
      "source": [
        "traindata = pd.DataFrame\r\n",
        "traindata = pd.read_csv('/content/iclr2021_reviews_train.csv')\r\n",
        "testdata = pd.read_csv('/content/iclr2021_reviews_test.csv')\r\n",
        "traindata = traindata.sample(frac=1).reset_index(drop=True)\r\n",
        "print(traindata.shape)\r\n",
        "traindata.head()"
      ],
      "execution_count": 3,
      "outputs": [
        {
          "output_type": "stream",
          "text": [
            "(2534, 4)\n"
          ],
          "name": "stdout"
        },
        {
          "output_type": "execute_result",
          "data": {
            "text/html": [
              "<div>\n",
              "<style scoped>\n",
              "    .dataframe tbody tr th:only-of-type {\n",
              "        vertical-align: middle;\n",
              "    }\n",
              "\n",
              "    .dataframe tbody tr th {\n",
              "        vertical-align: top;\n",
              "    }\n",
              "\n",
              "    .dataframe thead th {\n",
              "        text-align: right;\n",
              "    }\n",
              "</style>\n",
              "<table border=\"1\" class=\"dataframe\">\n",
              "  <thead>\n",
              "    <tr style=\"text-align: right;\">\n",
              "      <th></th>\n",
              "      <th>review</th>\n",
              "      <th>decision</th>\n",
              "      <th>sentiments</th>\n",
              "      <th>labels</th>\n",
              "    </tr>\n",
              "  </thead>\n",
              "  <tbody>\n",
              "    <tr>\n",
              "      <th>0</th>\n",
              "      <td>\\nSummary: This paper leverages an explicit pr...</td>\n",
              "      <td>Reject</td>\n",
              "      <td>Neutral</td>\n",
              "      <td>Reject</td>\n",
              "    </tr>\n",
              "    <tr>\n",
              "      <th>1</th>\n",
              "      <td>The paper presents three techniques to train a...</td>\n",
              "      <td>Accept</td>\n",
              "      <td>Positive</td>\n",
              "      <td>Accept (Poster)</td>\n",
              "    </tr>\n",
              "    <tr>\n",
              "      <th>2</th>\n",
              "      <td>The paper proposed a novel regularizer that is...</td>\n",
              "      <td>Accept</td>\n",
              "      <td>Positive</td>\n",
              "      <td>Accept (Poster)</td>\n",
              "    </tr>\n",
              "    <tr>\n",
              "      <th>3</th>\n",
              "      <td>The authors show that two types of singulariti...</td>\n",
              "      <td>Accept</td>\n",
              "      <td>Positive</td>\n",
              "      <td>Accept (Poster)</td>\n",
              "    </tr>\n",
              "    <tr>\n",
              "      <th>4</th>\n",
              "      <td>The paper proposes a method for adapting a pre...</td>\n",
              "      <td>Reject</td>\n",
              "      <td>Negative</td>\n",
              "      <td>Reject</td>\n",
              "    </tr>\n",
              "  </tbody>\n",
              "</table>\n",
              "</div>"
            ],
            "text/plain": [
              "                                              review  ...           labels\n",
              "0  \\nSummary: This paper leverages an explicit pr...  ...           Reject\n",
              "1  The paper presents three techniques to train a...  ...  Accept (Poster)\n",
              "2  The paper proposed a novel regularizer that is...  ...  Accept (Poster)\n",
              "3  The authors show that two types of singulariti...  ...  Accept (Poster)\n",
              "4  The paper proposes a method for adapting a pre...  ...           Reject\n",
              "\n",
              "[5 rows x 4 columns]"
            ]
          },
          "metadata": {
            "tags": []
          },
          "execution_count": 3
        }
      ]
    },
    {
      "cell_type": "markdown",
      "metadata": {
        "id": "m2vF6d5ygesb"
      },
      "source": [
        "### Removing all columns except the sentiments and review column."
      ]
    },
    {
      "cell_type": "code",
      "metadata": {
        "id": "0yrOaYBL5tPq",
        "colab": {
          "base_uri": "https://localhost:8080/",
          "height": 0
        },
        "outputId": "3492dc06-1ae5-4a84-f169-d5348168eecd"
      },
      "source": [
        "data = traindata[['sentiments','review']]\r\n",
        "data.head()"
      ],
      "execution_count": 4,
      "outputs": [
        {
          "output_type": "execute_result",
          "data": {
            "text/html": [
              "<div>\n",
              "<style scoped>\n",
              "    .dataframe tbody tr th:only-of-type {\n",
              "        vertical-align: middle;\n",
              "    }\n",
              "\n",
              "    .dataframe tbody tr th {\n",
              "        vertical-align: top;\n",
              "    }\n",
              "\n",
              "    .dataframe thead th {\n",
              "        text-align: right;\n",
              "    }\n",
              "</style>\n",
              "<table border=\"1\" class=\"dataframe\">\n",
              "  <thead>\n",
              "    <tr style=\"text-align: right;\">\n",
              "      <th></th>\n",
              "      <th>sentiments</th>\n",
              "      <th>review</th>\n",
              "    </tr>\n",
              "  </thead>\n",
              "  <tbody>\n",
              "    <tr>\n",
              "      <th>0</th>\n",
              "      <td>Neutral</td>\n",
              "      <td>\\nSummary: This paper leverages an explicit pr...</td>\n",
              "    </tr>\n",
              "    <tr>\n",
              "      <th>1</th>\n",
              "      <td>Positive</td>\n",
              "      <td>The paper presents three techniques to train a...</td>\n",
              "    </tr>\n",
              "    <tr>\n",
              "      <th>2</th>\n",
              "      <td>Positive</td>\n",
              "      <td>The paper proposed a novel regularizer that is...</td>\n",
              "    </tr>\n",
              "    <tr>\n",
              "      <th>3</th>\n",
              "      <td>Positive</td>\n",
              "      <td>The authors show that two types of singulariti...</td>\n",
              "    </tr>\n",
              "    <tr>\n",
              "      <th>4</th>\n",
              "      <td>Negative</td>\n",
              "      <td>The paper proposes a method for adapting a pre...</td>\n",
              "    </tr>\n",
              "  </tbody>\n",
              "</table>\n",
              "</div>"
            ],
            "text/plain": [
              "  sentiments                                             review\n",
              "0    Neutral  \\nSummary: This paper leverages an explicit pr...\n",
              "1   Positive  The paper presents three techniques to train a...\n",
              "2   Positive  The paper proposed a novel regularizer that is...\n",
              "3   Positive  The authors show that two types of singulariti...\n",
              "4   Negative  The paper proposes a method for adapting a pre..."
            ]
          },
          "metadata": {
            "tags": []
          },
          "execution_count": 4
        }
      ]
    },
    {
      "cell_type": "code",
      "metadata": {
        "id": "LvTnMAVq5vvo"
      },
      "source": [
        "X_train = data['review'].values\r\n",
        "y_train = data['sentiments'].values\r\n",
        "X_test = data['review'].values\r\n",
        "y_test = data['sentiments'].values"
      ],
      "execution_count": 5,
      "outputs": []
    },
    {
      "cell_type": "markdown",
      "metadata": {
        "id": "nH4FGf9IguOO"
      },
      "source": [
        "### Data exploration"
      ]
    },
    {
      "cell_type": "code",
      "metadata": {
        "id": "20zhaWHd5wMB",
        "colab": {
          "base_uri": "https://localhost:8080/",
          "height": 0
        },
        "outputId": "4f4b41b9-5a7b-4cc3-c84d-3bfbdcf9a846"
      },
      "source": [
        "data['sentiments'].value_counts().sort_index().plot.bar()"
      ],
      "execution_count": 6,
      "outputs": [
        {
          "output_type": "execute_result",
          "data": {
            "text/plain": [
              "<matplotlib.axes._subplots.AxesSubplot at 0x7f439217d470>"
            ]
          },
          "metadata": {
            "tags": []
          },
          "execution_count": 6
        },
        {
          "output_type": "display_data",
          "data": {
            "image/png": "[encoded data removed]",
            "text/plain": [
              "<Figure size 432x288 with 1 Axes>"
            ]
          },
          "metadata": {
            "tags": [],
            "needs_background": "light"
          }
        }
      ]
    },
    {
      "cell_type": "code",
      "metadata": {
        "id": "2C5NfeRL5wQu",
        "colab": {
          "base_uri": "https://localhost:8080/",
          "height": 0
        },
        "outputId": "921fa1f5-4143-4260-eb7f-8e552f2d0999"
      },
      "source": [
        "data['review'].str.len().plot.hist()"
      ],
      "execution_count": 7,
      "outputs": [
        {
          "output_type": "execute_result",
          "data": {
            "text/plain": [
              "<matplotlib.axes._subplots.AxesSubplot at 0x7f43920c1588>"
            ]
          },
          "metadata": {
            "tags": []
          },
          "execution_count": 7
        },
        {
          "output_type": "display_data",
          "data": {
            "image/png": "[encoded data removed]",
            "text/plain": [
              "<Figure size 432x288 with 1 Axes>"
            ]
          },
          "metadata": {
            "tags": [],
            "needs_background": "light"
          }
        }
      ]
    },
    {
      "cell_type": "markdown",
      "metadata": {
        "id": "g6DY2KakhAEf"
      },
      "source": [
        "### Preprocessing"
      ]
    },
    {
      "cell_type": "code",
      "metadata": {
        "id": "FfuUUSxQ5wSz",
        "colab": {
          "base_uri": "https://localhost:8080/",
          "height": 296
        },
        "outputId": "a2cab964-d1c5-4ecc-e530-d95e040f953a"
      },
      "source": [
        "data['review'] = data['review'].str.replace('SUMMARY', '')\r\n",
        "data.head()"
      ],
      "execution_count": 8,
      "outputs": [
        {
          "output_type": "stream",
          "text": [
            "/usr/local/lib/python3.6/dist-packages/ipykernel_launcher.py:1: SettingWithCopyWarning: \n",
            "A value is trying to be set on a copy of a slice from a DataFrame.\n",
            "Try using .loc[row_indexer,col_indexer] = value instead\n",
            "\n",
            "See the caveats in the documentation: https://pandas.pydata.org/pandas-docs/stable/user_guide/indexing.html#returning-a-view-versus-a-copy\n",
            "  \"\"\"Entry point for launching an IPython kernel.\n"
          ],
          "name": "stderr"
        },
        {
          "output_type": "execute_result",
          "data": {
            "text/html": [
              "<div>\n",
              "<style scoped>\n",
              "    .dataframe tbody tr th:only-of-type {\n",
              "        vertical-align: middle;\n",
              "    }\n",
              "\n",
              "    .dataframe tbody tr th {\n",
              "        vertical-align: top;\n",
              "    }\n",
              "\n",
              "    .dataframe thead th {\n",
              "        text-align: right;\n",
              "    }\n",
              "</style>\n",
              "<table border=\"1\" class=\"dataframe\">\n",
              "  <thead>\n",
              "    <tr style=\"text-align: right;\">\n",
              "      <th></th>\n",
              "      <th>sentiments</th>\n",
              "      <th>review</th>\n",
              "    </tr>\n",
              "  </thead>\n",
              "  <tbody>\n",
              "    <tr>\n",
              "      <th>0</th>\n",
              "      <td>Neutral</td>\n",
              "      <td>\\nSummary: This paper leverages an explicit pr...</td>\n",
              "    </tr>\n",
              "    <tr>\n",
              "      <th>1</th>\n",
              "      <td>Positive</td>\n",
              "      <td>The paper presents three techniques to train a...</td>\n",
              "    </tr>\n",
              "    <tr>\n",
              "      <th>2</th>\n",
              "      <td>Positive</td>\n",
              "      <td>The paper proposed a novel regularizer that is...</td>\n",
              "    </tr>\n",
              "    <tr>\n",
              "      <th>3</th>\n",
              "      <td>Positive</td>\n",
              "      <td>The authors show that two types of singulariti...</td>\n",
              "    </tr>\n",
              "    <tr>\n",
              "      <th>4</th>\n",
              "      <td>Negative</td>\n",
              "      <td>The paper proposes a method for adapting a pre...</td>\n",
              "    </tr>\n",
              "  </tbody>\n",
              "</table>\n",
              "</div>"
            ],
            "text/plain": [
              "  sentiments                                             review\n",
              "0    Neutral  \\nSummary: This paper leverages an explicit pr...\n",
              "1   Positive  The paper presents three techniques to train a...\n",
              "2   Positive  The paper proposed a novel regularizer that is...\n",
              "3   Positive  The authors show that two types of singulariti...\n",
              "4   Negative  The paper proposes a method for adapting a pre..."
            ]
          },
          "metadata": {
            "tags": []
          },
          "execution_count": 8
        }
      ]
    },
    {
      "cell_type": "markdown",
      "metadata": {
        "id": "n85IfkcBoxGn"
      },
      "source": [
        "### Defining cleaning method includes punctuation marks, stop words & digits"
      ]
    },
    {
      "cell_type": "code",
      "metadata": {
        "id": "qhIKDX33wV9a"
      },
      "source": [
        "#Text Pre-processing\r\n",
        "# def text_cleaning(tweet):\r\n",
        "#     letters = re.sub(\"[^a-zA-Z]\",\" \",tweet)\r\n",
        "#     ht = re.sub(r'http\\S+', '',letters)\r\n",
        "#     mention = re.sub(r'@\\w+', '', ht)\r\n",
        "#     p = re.sub(r'[^\\w\\s]','',mention)\r\n",
        "#     words = p.lower().split()\r\n",
        "#     stops = set(stopwords.words(\"english\"))\r\n",
        "#     meaningful_words = [w for w in words if not w in stops]\r\n",
        "#     return( \" \".join(meaningful_words))\r\n",
        "# data['text_clean']=data['review'].apply(lambda x: text_cleaning(x))"
      ],
      "execution_count": 9,
      "outputs": []
    },
    {
      "cell_type": "code",
      "metadata": {
        "id": "NROCzSbeotyb"
      },
      "source": [
        "corpus = []\r\n",
        "for i in range(0,2534):\r\n",
        "  review = re.sub('^a-zA-Z', ' ',data['review'][i])\r\n",
        "  review = re.sub(r\"what's\", \"what is \", data['review'][i])\r\n",
        "  review = re.sub(r\"\\'s\", \" \", data['review'][i])\r\n",
        "  review = re.sub(r\"\\'ve\", \" have \", data['review'][i])\r\n",
        "  review = re.sub(r\"can't\", \"cannot \", data['review'][i])\r\n",
        "  review = re.sub(r\"n't\", \" not \", data['review'][i])\r\n",
        "  review = re.sub(r\"i'm\", \"i am \", data['review'][i])\r\n",
        "  review = re.sub(r\"\\'re\", \" are \", data['review'][i])\r\n",
        "  review = re.sub(r\"\\'d\", \" would \", data['review'][i])\r\n",
        "  review = re.sub(r\"\\'ll\", \" will \", data['review'][i])\r\n",
        "  review = re.sub(r\",\", \" \", data['review'][i])\r\n",
        "  review = re.sub(r\"\\.\", \" \", data['review'][i])\r\n",
        "  review = re.sub(r\"!\", \" ! \", data['review'][i])\r\n",
        "  review = re.sub(r\"\\/\", \" \", data['review'][i])\r\n",
        "  review = re.sub(r\"\\^\", \" ^ \", data['review'][i])\r\n",
        "  review = re.sub(r\"\\+\", \" + \", data['review'][i])\r\n",
        "  review = re.sub(r\"\\-\", \" - \", data['review'][i])\r\n",
        "  review = re.sub(r\"\\=\", \" = \", data['review'][i])\r\n",
        "  review = re.sub(r\"'\", \" \", data['review'][i])\r\n",
        "  review = re.sub(r\"(\\d+)(k)\", r\"\\g<1>000\", data['review'][i])\r\n",
        "  review = re.sub(r\":\", \" : \", data['review'][i])\r\n",
        "  review = re.sub(r\" e g \", \" eg \", data['review'][i])\r\n",
        "  review = re.sub(r\" b g \", \" bg \", data['review'][i])\r\n",
        "  review = re.sub(r\" u s \", \" american \", data['review'][i])\r\n",
        "  review = re.sub(r\"\\0s\", \"0\", data['review'][i])\r\n",
        "  review = re.sub(r\" 9 11 \", \"911\", data['review'][i])\r\n",
        "  review = re.sub(r\"e - mail\", \"email\", data['review'][i])\r\n",
        "  review = re.sub(r\"j k\", \"jk\", data['review'][i])\r\n",
        "  review = re.sub(r\"\\s{2,}\", \" \", data['review'][i])\r\n",
        "  review = review.lower().replace('\\n\\n', '').replace('_','')\r\n",
        "  review = review.split()\r\n",
        "  ps = PorterStemmer()\r\n",
        "  review = [ps.stem(word) for word in review if not word in set(stopwords.words('english'))]\r\n",
        "  review = ' '.join(review)"
      ],
      "execution_count": 10,
      "outputs": []
    },
    {
      "cell_type": "code",
      "metadata": {
        "id": "iGMH1lFSM04y"
      },
      "source": [
        "#TFIDF Vectorizer, just like before\r\n",
        "stopset = set(stopwords.words('english'))\r\n",
        "vectorizer = TfidfVectorizer(use_idf=True, lowercase=True, strip_accents='ascii', stop_words=stopset)"
      ],
      "execution_count": 11,
      "outputs": []
    },
    {
      "cell_type": "code",
      "metadata": {
        "id": "inTqD08dtN2P",
        "colab": {
          "base_uri": "https://localhost:8080/",
          "height": 0
        },
        "outputId": "d56ed941-1aa2-4328-b903-a29756775445"
      },
      "source": [
        "review"
      ],
      "execution_count": 12,
      "outputs": [
        {
          "output_type": "execute_result",
          "data": {
            "application/vnd.google.colaboratory.intrinsic+json": {
              "type": "string"
            },
            "text/plain": [
              "'manuscript mainli present cheap prune algorithm dens layer dnns. propos algorithm improv net-trim (aghasi et al., 2016), enforc weight sparse. main contribut manuscript non-convex optim problem (aghasi et al., 2016) reformul differ convex (dc) problem, solv quit effici use dca algorithm (tao an, 1997). complex propos algorithm much lower net-trim fast version lob (dong et al., 2017). author also analyz gener error bound dnn prune base work (sokol et al., 2017). although increment work built upon (aghasi et al., 2016) exist algorithm (tao an, 1997) adopt optimization, contribut valuabl sinc complex significantli reduc util propos differ convex reformulation. although main idea clearli presented, mani syntax error suggest author care check manuscript. pros: 1. motiv clear present reformul reasonable. 2. gener error analysi conclus “layer closer input exponenti less robust pruning” interesting. cons: 1. mani syntax errors, e.g., “closer approach recent aghasi et al. (2016) authors”, “an cheap prune algorithm”, etc. besides, discuss result tabl 1. 2. although complex propos method much lower compar approach (net-trim lobs), seem larg sacrific accuracy. example, accuraci drop 95.2% 91% compar net-trim lenet-5 model 80.5% 74.6% compar lob cifarnet model. propos method better hard-thresholding.'"
            ]
          },
          "metadata": {
            "tags": []
          },
          "execution_count": 12
        }
      ]
    },
    {
      "cell_type": "markdown",
      "metadata": {
        "id": "RiAVjieXhtgp"
      },
      "source": [
        "### Transform text to lowercase"
      ]
    },
    {
      "cell_type": "code",
      "metadata": {
        "colab": {
          "base_uri": "https://localhost:8080/"
        },
        "id": "zyy-dlap5wU4",
        "outputId": "88e15315-82ff-4239-f8c2-d952b084dfcb"
      },
      "source": [
        "data['review'].apply(lambda x: x.lower()) #transform text to lowercase\r\n",
        "data['review'] = data['review'].apply(lambda x: re.sub('[^a-zA-z0-9\\s]', '', x))\r\n",
        "data['review'].head()"
      ],
      "execution_count": 99,
      "outputs": [
        {
          "output_type": "stream",
          "text": [
            "/usr/local/lib/python3.6/dist-packages/ipykernel_launcher.py:2: SettingWithCopyWarning: \n",
            "A value is trying to be set on a copy of a slice from a DataFrame.\n",
            "Try using .loc[row_indexer,col_indexer] = value instead\n",
            "\n",
            "See the caveats in the documentation: https://pandas.pydata.org/pandas-docs/stable/user_guide/indexing.html#returning-a-view-versus-a-copy\n",
            "  \n"
          ],
          "name": "stderr"
        },
        {
          "output_type": "execute_result",
          "data": {
            "text/plain": [
              "0    \\nSummary This paper leverages an explicit pro...\n",
              "1    The paper presents three techniques to train a...\n",
              "2    The paper proposed a novel regularizer that is...\n",
              "3    The authors show that two types of singulariti...\n",
              "4    The paper proposes a method for adapting a pre...\n",
              "Name: review, dtype: object"
            ]
          },
          "metadata": {
            "tags": []
          },
          "execution_count": 99
        }
      ]
    },
    {
      "cell_type": "markdown",
      "metadata": {
        "id": "jxCzHJUriNrp"
      },
      "source": [
        "### Text tokenizer in the same length"
      ]
    },
    {
      "cell_type": "code",
      "metadata": {
        "id": "kLbZRQwblPUr"
      },
      "source": [
        "MAX_NUM_WORDS = 40000\r\n",
        "MAX_SEQUENCE_LENGTH = 100"
      ],
      "execution_count": 87,
      "outputs": []
    },
    {
      "cell_type": "code",
      "metadata": {
        "colab": {
          "base_uri": "https://localhost:8080/"
        },
        "id": "LQe2-DTx5wW_",
        "outputId": "d02d5e89-48d7-48cc-df32-8b9f919aecfa"
      },
      "source": [
        "from keras.preprocessing.text import Tokenizer\r\n",
        "from keras.preprocessing.sequence import pad_sequences\r\n",
        "\r\n",
        "tokenizer = Tokenizer(MAX_NUM_WORDS, split=\" \")\r\n",
        "tokenizer.fit_on_texts(data['review'].values)\r\n",
        "\r\n",
        "X = tokenizer.texts_to_sequences(data['review'].values)\r\n",
        "X = pad_sequences(X, MAX_SEQUENCE_LENGTH) # padding our text vector so they all have the same length\r\n",
        "X[:10]"
      ],
      "execution_count": 88,
      "outputs": [
        {
          "output_type": "execute_result",
          "data": {
            "text/plain": [
              "array([[13264,  1489,    17,    82, ...,   564,  7380,  3051,   482],\n",
              "       [   32,   347,    14,  4626, ...,    48,     1,    32,   347],\n",
              "       [ 5193,  1333,   106,     7, ...,     5,   334,   341,   358],\n",
              "       [    1, 13276,     2,    74, ...,   918,     3,   338,    87],\n",
              "       ...,\n",
              "       [   20,   397,    11,     4, ...,     8,    30,    28,   984],\n",
              "       [   30,    16,     1,   120, ...,  4222,   121,     1,  6619],\n",
              "       [    8,    14,    15,  1825, ...,   186,  1052,     6,    67],\n",
              "       [  463,  3586,    18,     1, ...,  1826,     7,     1,   356]], dtype=int32)"
            ]
          },
          "metadata": {
            "tags": []
          },
          "execution_count": 88
        }
      ]
    },
    {
      "cell_type": "code",
      "metadata": {
        "colab": {
          "base_uri": "https://localhost:8080/"
        },
        "id": "BZwvBUGOtLVU",
        "outputId": "3dfc4cd3-19fe-4830-834b-62f6f3e10b62"
      },
      "source": [
        "index_of_words = tokenizer.word_index\r\n",
        "print(len(index_of_words))"
      ],
      "execution_count": 89,
      "outputs": [
        {
          "output_type": "stream",
          "text": [
            "24797\n"
          ],
          "name": "stdout"
        }
      ]
    },
    {
      "cell_type": "code",
      "metadata": {
        "colab": {
          "base_uri": "https://localhost:8080/"
        },
        "id": "6RFQIaRy5wdf",
        "outputId": "ad1565d7-953f-46f8-faff-5a2d79417eec"
      },
      "source": [
        "y = pd.get_dummies(data['sentiments']).values\r\n",
        "[print(data['sentiments'][i], y[i]) for i in range(0,10)]\r\n",
        "\r\n",
        "# Y = data['sentiments']\r\n",
        "# lenc = LabelEncoder()\r\n",
        "# Y = lenc.fit_transform(Y)\r\n",
        "# Y = to_categorical(Y)\r\n",
        "# Y"
      ],
      "execution_count": 90,
      "outputs": [
        {
          "output_type": "stream",
          "text": [
            "Neutral [0 1 0]\n",
            "Positive [0 0 1]\n",
            "Positive [0 0 1]\n",
            "Positive [0 0 1]\n",
            "Negative [1 0 0]\n",
            "Positive [0 0 1]\n",
            "Positive [0 0 1]\n",
            "Negative [1 0 0]\n",
            "Neutral [0 1 0]\n",
            "Positive [0 0 1]\n"
          ],
          "name": "stdout"
        },
        {
          "output_type": "execute_result",
          "data": {
            "text/plain": [
              "[None, None, None, None, None, None, None, None, None, None]"
            ]
          },
          "metadata": {
            "tags": []
          },
          "execution_count": 90
        }
      ]
    },
    {
      "cell_type": "markdown",
      "metadata": {
        "id": "j_y9oLm1rcSr"
      },
      "source": [
        "### Vectorizing the data\r\n"
      ]
    },
    {
      "cell_type": "code",
      "metadata": {
        "id": "NTvOrppFrW5k"
      },
      "source": [
        "# Create feature vectors\r\n",
        "vectorizer = TfidfVectorizer(min_df = 5,\r\n",
        "                             max_df = 0.8,\r\n",
        "                             sublinear_tf = True,\r\n",
        "                             use_idf = True)\r\n",
        "\r\n",
        "train_vectors = vectorizer.fit_transform(traindata['review'])\r\n",
        "test_vectors = vectorizer.transform(testdata['review'])"
      ],
      "execution_count": 18,
      "outputs": []
    },
    {
      "cell_type": "markdown",
      "metadata": {
        "id": "ImWprpURDOy5"
      },
      "source": [
        "### Train Test Split"
      ]
    },
    {
      "cell_type": "code",
      "metadata": {
        "colab": {
          "base_uri": "https://localhost:8080/"
        },
        "id": "c1YmES5d5whC",
        "outputId": "3726305b-ce08-4cbb-8611-e4f1959d4866"
      },
      "source": [
        "#X=data\r\n",
        "test_size, val_size = 0.2, 0.05\r\n",
        "\r\n",
        "X_train, X_test, y_train, y_test = train_test_split(X, y, test_size=0.3, random_state=42)\r\n",
        "\r\n",
        "print('X train: {}, Y train: {}'.format(X_train.shape, y_train.shape))\r\n",
        "print('X test: {}, Y test: {}'.format(X_test.shape, y_test.shape))\r\n",
        "\r\n",
        "# train_x=X_train\r\n",
        "# test_x=X_test\r\n",
        "# train_y=y_train\r\n",
        "# test_y=y_test"
      ],
      "execution_count": 93,
      "outputs": [
        {
          "output_type": "stream",
          "text": [
            "X train: (1773, 100), Y train: (1773, 3)\n",
            "X test: (761, 100), Y test: (761, 3)\n"
          ],
          "name": "stdout"
        }
      ]
    },
    {
      "cell_type": "code",
      "metadata": {
        "colab": {
          "base_uri": "https://localhost:8080/"
        },
        "id": "0x4nvKvhXTcN",
        "outputId": "e44ec36a-85ae-4be6-c668-e5ec436bea3a"
      },
      "source": [
        "print(\"X train shape \",X_train.shape)\r\n",
        "print(\"X test shape \",X_test.shape)\r\n",
        "print(\"y train shape \",y_train.shape)\r\n",
        "print(\"y test shape \",y_test.shape)"
      ],
      "execution_count": 94,
      "outputs": [
        {
          "output_type": "stream",
          "text": [
            "X train shape  (1773, 100)\n",
            "X test shape  (761, 100)\n",
            "y train shape  (1773, 3)\n",
            "y test shape  (761, 3)\n"
          ],
          "name": "stdout"
        }
      ]
    },
    {
      "cell_type": "markdown",
      "metadata": {
        "id": "OEUpK2cd9yoU"
      },
      "source": [
        "### Creating a Linear SVM Model"
      ]
    },
    {
      "cell_type": "code",
      "metadata": {
        "id": "_Fn4mbQe0twR"
      },
      "source": [
        "import time\r\n",
        "from sklearn import svm\r\n",
        "# Perform classification with SVM, kernel=linear\r\n",
        "classifier_linear = svm.SVC(kernel='linear')\r\n",
        "t0 = time.time()\r\n",
        "classifier_linear.fit(train_vectors, data['sentiments'])\r\n",
        "t1 = time.time()\r\n",
        "prediction_linear = classifier_linear.predict(test_vectors)\r\n",
        "t2 = time.time()\r\n",
        "time_linear_train = t1-t0\r\n",
        "time_linear_predict = t2-t1"
      ],
      "execution_count": 21,
      "outputs": []
    },
    {
      "cell_type": "markdown",
      "metadata": {
        "id": "psN3gtwSjghx"
      },
      "source": [
        "#### Results"
      ]
    },
    {
      "cell_type": "code",
      "metadata": {
        "colab": {
          "base_uri": "https://localhost:8080/"
        },
        "id": "k-csm0LgjktO",
        "outputId": "177a7bc8-e79b-4732-8fd1-90c6abdba9d2"
      },
      "source": [
        "# results\r\n",
        "print(\"Results for SVC(kernel=linear)\")\r\n",
        "print(\"Training time: %fs; Prediction time: %fs\" % (time_linear_train, time_linear_predict))\r\n",
        "report = classification_report(testdata['sentiments'], prediction_linear, output_dict=True)\r\n",
        "print(\"\")\r\n",
        "print(classification_report(testdata['sentiments'], prediction_linear))"
      ],
      "execution_count": 22,
      "outputs": [
        {
          "output_type": "stream",
          "text": [
            "Results for SVC(kernel=linear)\n",
            "Training time: 11.864959s; Prediction time: 9.496160s\n",
            "\n",
            "              precision    recall  f1-score   support\n",
            "\n",
            "    Negative       0.95      0.90      0.93       794\n",
            "     Neutral       0.86      0.97      0.91      1038\n",
            "    Positive       0.97      0.85      0.91       702\n",
            "\n",
            "    accuracy                           0.91      2534\n",
            "   macro avg       0.93      0.91      0.91      2534\n",
            "weighted avg       0.92      0.91      0.91      2534\n",
            "\n"
          ],
          "name": "stdout"
        }
      ]
    },
    {
      "cell_type": "markdown",
      "metadata": {
        "id": "DO-hkxEujp3r"
      },
      "source": [
        "#### Test the SVM classifier on OpenReview"
      ]
    },
    {
      "cell_type": "code",
      "metadata": {
        "colab": {
          "base_uri": "https://localhost:8080/"
        },
        "id": "p-zfuAZ6jvD6",
        "outputId": "371c96c8-9052-41e3-e2bb-09cce3ff2304"
      },
      "source": [
        "review = \"I love this paper and I think the previous team building strategy behind is worth exploring further\"\r\n",
        "\r\n",
        "review_vector = vectorizer.transform([review]) # vectorizing\r\n",
        "print(classifier_linear.predict(review_vector))\r\n",
        "\r\n",
        "review = \"The experimental results of the experiment are not made explicitly.\"\r\n",
        "\r\n",
        "review_vector = vectorizer.transform([review]) # vectorizing\r\n",
        "print(classifier_linear.predict(review_vector))\r\n",
        "\r\n",
        "review = \"This paper can be strengthened by discussion and testing of other forms of distribution in the descriptive family.\"\r\n",
        "\r\n",
        "review_vector = vectorizer.transform([review]) # vectorizing\r\n",
        "print(classifier_linear.predict(review_vector))"
      ],
      "execution_count": 23,
      "outputs": [
        {
          "output_type": "stream",
          "text": [
            "['Positive']\n",
            "['Negative']\n",
            "['Neutral']\n"
          ],
          "name": "stdout"
        }
      ]
    },
    {
      "cell_type": "markdown",
      "metadata": {
        "id": "1aPBqu4fmJxB"
      },
      "source": [
        "### Multi-layer Perceptron classifier (MLP)\r\n",
        "\r\n"
      ]
    },
    {
      "cell_type": "code",
      "metadata": {
        "id": "GcKLxOjuoCyS",
        "colab": {
          "base_uri": "https://localhost:8080/"
        },
        "outputId": "5841dcd7-df47-4b52-ff2e-9726743a09cd"
      },
      "source": [
        "from sklearn.decomposition import PCA\r\n",
        "from sklearn.model_selection import GridSearchCV\r\n",
        "from sklearn.datasets import fetch_lfw_people\r\n",
        "from time import time\r\n",
        "from sklearn.neural_network import MLPClassifier\r\n",
        "import logging\r\n",
        "\r\n",
        "t0 = time()\r\n",
        "clf_MLP = MLPClassifier().fit(X_train, y_train)\r\n",
        "print(\"done in %0.3fs\" % (time() - t0))"
      ],
      "execution_count": 24,
      "outputs": [
        {
          "output_type": "stream",
          "text": [
            "done in 1.795s\n"
          ],
          "name": "stdout"
        }
      ]
    },
    {
      "cell_type": "code",
      "metadata": {
        "id": "wdNvmeHdmI2S",
        "colab": {
          "base_uri": "https://localhost:8080/"
        },
        "outputId": "11990cc2-dbda-415b-9958-db618e9c529a"
      },
      "source": [
        "print(\"MLP PREDICTING\")\r\n",
        "t0 = time()\r\n",
        "#MLP\r\n",
        "y_pred_MLP = clf_MLP.predict(X_test)\r\n",
        "print(\"done in %0.3fs\" % (time() - t0))\r\n",
        "print(y_pred_MLP)\r\n",
        "#Print Evaluation (classification report)predicted,data_sample.emotion\r\n",
        "print(classification_report(y_test, y_pred_MLP))\r\n",
        "accuracy = accuracy_score(y_test, y_pred_MLP)\r\n",
        "print ('The resulting accuracy using MLP is ', (100 * accuracy), '%\\n')"
      ],
      "execution_count": 25,
      "outputs": [
        {
          "output_type": "stream",
          "text": [
            "MLP PREDICTING\n",
            "done in 0.002s\n",
            "[[0 0 0]\n",
            " [0 1 1]\n",
            " [0 1 0]\n",
            " [1 0 0]\n",
            " ...\n",
            " [0 1 1]\n",
            " [0 0 0]\n",
            " [0 1 0]\n",
            " [0 1 1]]\n",
            "              precision    recall  f1-score   support\n",
            "\n",
            "           0       0.31      0.33      0.32       233\n",
            "           1       0.44      0.46      0.45       308\n",
            "           2       0.32      0.35      0.33       220\n",
            "\n",
            "   micro avg       0.36      0.39      0.38       761\n",
            "   macro avg       0.36      0.38      0.37       761\n",
            "weighted avg       0.37      0.39      0.38       761\n",
            " samples avg       0.29      0.39      0.32       761\n",
            "\n",
            "The resulting accuracy using MLP is  19.44809461235217 %\n",
            "\n"
          ],
          "name": "stdout"
        },
        {
          "output_type": "stream",
          "text": [
            "/usr/local/lib/python3.6/dist-packages/sklearn/metrics/_classification.py:1272: UndefinedMetricWarning: Precision and F-score are ill-defined and being set to 0.0 in samples with no predicted labels. Use `zero_division` parameter to control this behavior.\n",
            "  _warn_prf(average, modifier, msg_start, len(result))\n"
          ],
          "name": "stderr"
        }
      ]
    },
    {
      "cell_type": "code",
      "metadata": {
        "colab": {
          "base_uri": "https://localhost:8080/"
        },
        "id": "Q_ONereOsE1n",
        "outputId": "11af8499-aba7-42ca-cc24-3fa7c07e72fd"
      },
      "source": [
        "confusion_matrix(y_test.argmax(axis=1), y_pred_MLP.argmax(axis=1))\r\n",
        "#confusion_matrix(y_test,y_pred_MLP)"
      ],
      "execution_count": 26,
      "outputs": [
        {
          "output_type": "execute_result",
          "data": {
            "text/plain": [
              "array([[132,  67,  34],\n",
              "       [172, 106,  30],\n",
              "       [120,  67,  33]])"
            ]
          },
          "metadata": {
            "tags": []
          },
          "execution_count": 26
        }
      ]
    },
    {
      "cell_type": "code",
      "metadata": {
        "id": "jdGCDVTcJnFS",
        "colab": {
          "base_uri": "https://localhost:8080/"
        },
        "outputId": "ff9b8863-00cf-4e0a-9d98-591017a602a7"
      },
      "source": [
        "!pip install scikit-plot"
      ],
      "execution_count": 27,
      "outputs": [
        {
          "output_type": "stream",
          "text": [
            "Collecting scikit-plot\n",
            "  Downloading https://files.pythonhosted.org/packages/7c/47/32520e259340c140a4ad27c1b97050dd3254fdc517b1d59974d47037510e/scikit_plot-0.3.7-py3-none-any.whl\n",
            "Requirement already satisfied: scipy>=0.9 in /usr/local/lib/python3.6/dist-packages (from scikit-plot) (1.4.1)\n",
            "Requirement already satisfied: scikit-learn>=0.18 in /usr/local/lib/python3.6/dist-packages (from scikit-plot) (0.22.2.post1)\n",
            "Requirement already satisfied: joblib>=0.10 in /usr/local/lib/python3.6/dist-packages (from scikit-plot) (1.0.0)\n",
            "Requirement already satisfied: matplotlib>=1.4.0 in /usr/local/lib/python3.6/dist-packages (from scikit-plot) (3.2.2)\n",
            "Requirement already satisfied: numpy>=1.13.3 in /usr/local/lib/python3.6/dist-packages (from scipy>=0.9->scikit-plot) (1.19.4)\n",
            "Requirement already satisfied: cycler>=0.10 in /usr/local/lib/python3.6/dist-packages (from matplotlib>=1.4.0->scikit-plot) (0.10.0)\n",
            "Requirement already satisfied: kiwisolver>=1.0.1 in /usr/local/lib/python3.6/dist-packages (from matplotlib>=1.4.0->scikit-plot) (1.3.1)\n",
            "Requirement already satisfied: python-dateutil>=2.1 in /usr/local/lib/python3.6/dist-packages (from matplotlib>=1.4.0->scikit-plot) (2.8.1)\n",
            "Requirement already satisfied: pyparsing!=2.0.4,!=2.1.2,!=2.1.6,>=2.0.1 in /usr/local/lib/python3.6/dist-packages (from matplotlib>=1.4.0->scikit-plot) (2.4.7)\n",
            "Requirement already satisfied: six in /usr/local/lib/python3.6/dist-packages (from cycler>=0.10->matplotlib>=1.4.0->scikit-plot) (1.15.0)\n",
            "Installing collected packages: scikit-plot\n",
            "Successfully installed scikit-plot-0.3.7\n"
          ],
          "name": "stdout"
        }
      ]
    },
    {
      "cell_type": "code",
      "metadata": {
        "id": "IzFW04f0wlQL",
        "colab": {
          "base_uri": "https://localhost:8080/",
          "height": 295
        },
        "outputId": "02986704-8e23-40e6-8ed7-8fba1f2a7d53"
      },
      "source": [
        "import scikitplot as skplt\r\n",
        "skplt.metrics.plot_confusion_matrix(y_test.argmax(axis=1), y_pred_MLP.argmax(axis=1), normalize=True)\r\n",
        "plt.show()"
      ],
      "execution_count": 28,
      "outputs": [
        {
          "output_type": "display_data",
          "data": {
            "image/png": "[encoded data removed]",
            "text/plain": [
              "<Figure size 432x288 with 2 Axes>"
            ]
          },
          "metadata": {
            "tags": [],
            "needs_background": "light"
          }
        }
      ]
    },
    {
      "cell_type": "markdown",
      "metadata": {
        "id": "Nw-2MLRmn36a"
      },
      "source": [
        "### Word2Vec Pre-Trained Embeddings Conversion"
      ]
    },
    {
      "cell_type": "code",
      "metadata": {
        "id": "MWTDy6OvekFH",
        "colab": {
          "base_uri": "https://localhost:8080/"
        },
        "outputId": "a85be275-19a9-46af-a978-24226d3e32d6"
      },
      "source": [
        "!pip install wget\r\n",
        "!wget -c \"https://s3.amazonaws.com/dl4j-distribution/GoogleNews-vectors-negative300.bin.gz\""
      ],
      "execution_count": 29,
      "outputs": [
        {
          "output_type": "stream",
          "text": [
            "Collecting wget\n",
            "  Downloading https://files.pythonhosted.org/packages/47/6a/62e288da7bcda82b935ff0c6cfe542970f04e29c756b0e147251b2fb251f/wget-3.2.zip\n",
            "Building wheels for collected packages: wget\n",
            "  Building wheel for wget (setup.py) ... \u001b[?25l\u001b[?25hdone\n",
            "  Created wheel for wget: filename=wget-3.2-cp36-none-any.whl size=9682 sha256=50893067d9cb88a8041683187b80d1356c0109d354c9197247f08f3cf068c073\n",
            "  Stored in directory: /root/.cache/pip/wheels/40/15/30/7d8f7cea2902b4db79e3fea550d7d7b85ecb27ef992b618f3f\n",
            "Successfully built wget\n",
            "Installing collected packages: wget\n",
            "Successfully installed wget-3.2\n",
            "--2021-01-05 11:28:01--  https://s3.amazonaws.com/dl4j-distribution/GoogleNews-vectors-negative300.bin.gz\n",
            "Resolving s3.amazonaws.com (s3.amazonaws.com)... 52.216.204.245\n",
            "Connecting to s3.amazonaws.com (s3.amazonaws.com)|52.216.204.245|:443... connected.\n",
            "HTTP request sent, awaiting response... 200 OK\n",
            "Length: 1647046227 (1.5G) [application/x-gzip]\n",
            "Saving to: ‘GoogleNews-vectors-negative300.bin.gz’\n",
            "\n",
            "GoogleNews-vectors- 100%[===================>]   1.53G  35.5MB/s    in 45s     \n",
            "\n",
            "2021-01-05 11:28:47 (34.6 MB/s) - ‘GoogleNews-vectors-negative300.bin.gz’ saved [1647046227/1647046227]\n",
            "\n"
          ],
          "name": "stdout"
        }
      ]
    },
    {
      "cell_type": "code",
      "metadata": {
        "id": "Xizc03wHQZ7J"
      },
      "source": [
        "#Using word2vec\r\n",
        "import gensim\r\n",
        "from gensim.models import Word2Vec\r\n",
        "from gensim.models import KeyedVectors\r\n",
        "from gensim.test.utils import datapath\r\n",
        "\r\n",
        "embeddings_wv = gensim.models.KeyedVectors.load_word2vec_format(\"GoogleNews-vectors-negative300.bin.gz\", binary=True)\r\n",
        "embeddings_wv.init_sims(replace=True)"
      ],
      "execution_count": 30,
      "outputs": []
    },
    {
      "cell_type": "code",
      "metadata": {
        "id": "kjmT5mrRPGbC"
      },
      "source": [
        "embeddings_wv = KeyedVectors.load_word2vec_format(datapath('word2vec_pre_kv_c'), binary=False)  # C text format\r\n",
        "wv_from_bin = KeyedVectors.load_word2vec_format(datapath(\"euclidean_vectors.bin\"), binary=True)  # C bin format"
      ],
      "execution_count": 31,
      "outputs": []
    },
    {
      "cell_type": "code",
      "metadata": {
        "id": "cGT-R2xdLgVV",
        "colab": {
          "base_uri": "https://localhost:8080/"
        },
        "outputId": "e789fd54-5865-4f1c-95ad-9e59a8469845"
      },
      "source": [
        "vocab = tokenizer.sequences_to_texts(review)\r\n",
        "\r\n",
        "# Adding 1 because of reserved 0 index\r\n",
        "vocab_size = len(tokenizer.word_index) + 1\r\n",
        "print (vocab_size)\r\n",
        "\r\n",
        "# create a weight matrix for words in training docs\r\n",
        "embedding_matrix = np.zeros((vocab_size, 100))\r\n",
        "\r\n",
        "for word, i in tokenizer.word_index.items():\r\n",
        "\ttry:\r\n",
        "\t\tembedding_vector = embeddings_ap[word]\r\n",
        "\t\tif embedding_vector is not None:\r\n",
        "\t\t\tembedding_matrix[i] = embedding_vector\r\n",
        "\texcept:\r\n",
        "\t\tpass"
      ],
      "execution_count": 32,
      "outputs": [
        {
          "output_type": "stream",
          "text": [
            "24798\n"
          ],
          "name": "stdout"
        }
      ]
    },
    {
      "cell_type": "code",
      "metadata": {
        "colab": {
          "base_uri": "https://localhost:8080/",
          "height": 1000
        },
        "id": "SLeoWFDnpIIT",
        "outputId": "0db86a54-8f98-49d9-d220-bdbe4729a684"
      },
      "source": [
        "from keras.models import Sequential,Model\r\n",
        "from keras.layers import Flatten,Input\r\n",
        "from IPython.display import SVG\r\n",
        "from keras.utils.vis_utils import model_to_dot\r\n",
        "\r\n",
        "sentiment_wv_model = Sequential()\r\n",
        "# Add embedding layer \r\n",
        "#No of output dimenstions is 100 as we embedded with Word2Vec 100d\r\n",
        "Embed_Layer = Embedding(vocab_size, 100, weights=[embedding_matrix], input_length=(MAX_SEQUENCE_LENGTH,), trainable=True)\r\n",
        "\r\n",
        "#define Inputs\r\n",
        "review_input = Input(shape=(MAX_SEQUENCE_LENGTH,),dtype= 'int32',name = 'review_input')\r\n",
        "review_embedding = Embed_Layer(review_input)\r\n",
        "Flatten_Layer = Flatten()\r\n",
        "review_flatten = Flatten_Layer(review_embedding)\r\n",
        "output_size = 2\r\n",
        "\r\n",
        "dense1 = Dense(100,activation='relu')(review_flatten)\r\n",
        "dense2 = Dense(32,activation='relu')(dense1)\r\n",
        "predict = Dense(2,activation='softmax')(dense2)\r\n",
        "\r\n",
        "sentiment_wv_model = Model(inputs=[review_input],outputs=[predict])\r\n",
        "sentiment_wv_model.compile(optimizer='adam',loss='categorical_crossentropy',metrics=['acc'])\r\n",
        "\r\n",
        "print(sentiment_wv_model.summary())\r\n",
        "SVG(model_to_dot(sentiment_wv_model).create(prog='dot', format='svg'))"
      ],
      "execution_count": 33,
      "outputs": [
        {
          "output_type": "stream",
          "text": [
            "Model: \"model\"\n",
            "_________________________________________________________________\n",
            "Layer (type)                 Output Shape              Param #   \n",
            "=================================================================\n",
            "review_input (InputLayer)    [(None, 100)]             0         \n",
            "_________________________________________________________________\n",
            "embedding (Embedding)        (None, 100, 100)          2479800   \n",
            "_________________________________________________________________\n",
            "flatten (Flatten)            (None, 10000)             0         \n",
            "_________________________________________________________________\n",
            "dense (Dense)                (None, 100)               1000100   \n",
            "_________________________________________________________________\n",
            "dense_1 (Dense)              (None, 32)                3232      \n",
            "_________________________________________________________________\n",
            "dense_2 (Dense)              (None, 2)                 66        \n",
            "=================================================================\n",
            "Total params: 3,483,198\n",
            "Trainable params: 3,483,198\n",
            "Non-trainable params: 0\n",
            "_________________________________________________________________\n",
            "None\n"
          ],
          "name": "stdout"
        },
        {
          "output_type": "execute_result",
          "data": {
            "text/plain": [
              "<IPython.core.display.SVG object>"
            ],
            "image/svg+xml": "<svg height=\"547pt\" viewBox=\"0.00 0.00 172.00 410.00\" width=\"229pt\" xmlns=\"http://www.w3.org/2000/svg\" xmlns:xlink=\"http://www.w3.org/1999/xlink\">\n<g class=\"graph\" id=\"graph0\" transform=\"scale(1.3333 1.3333) rotate(0) translate(4 406)\">\n<title>G</title>\n<polygon fill=\"#ffffff\" points=\"-4,4 -4,-406 168,-406 168,4 -4,4\" stroke=\"transparent\"/>\n<!-- 139928093676040 -->\n<g class=\"node\" id=\"node1\">\n<title>139928093676040</title>\n<polygon fill=\"none\" points=\"0,-365.5 0,-401.5 164,-401.5 164,-365.5 0,-365.5\" stroke=\"#000000\"/>\n<text fill=\"#000000\" font-family=\"Times,serif\" font-size=\"14.00\" text-anchor=\"middle\" x=\"82\" y=\"-379.8\">review_input: InputLayer</text>\n</g>\n<!-- 139928094117056 -->\n<g class=\"node\" id=\"node2\">\n<title>139928094117056</title>\n<polygon fill=\"none\" points=\"4,-292.5 4,-328.5 160,-328.5 160,-292.5 4,-292.5\" stroke=\"#000000\"/>\n<text fill=\"#000000\" font-family=\"Times,serif\" font-size=\"14.00\" text-anchor=\"middle\" x=\"82\" y=\"-306.8\">embedding: Embedding</text>\n</g>\n<!-- 139928093676040&#45;&gt;139928094117056 -->\n<g class=\"edge\" id=\"edge1\">\n<title>139928093676040-&gt;139928094117056</title>\n<path d=\"M82,-365.4551C82,-357.3828 82,-347.6764 82,-338.6817\" fill=\"none\" stroke=\"#000000\"/>\n<polygon fill=\"#000000\" points=\"85.5001,-338.5903 82,-328.5904 78.5001,-338.5904 85.5001,-338.5903\" stroke=\"#000000\"/>\n</g>\n<!-- 139928093677832 -->\n<g class=\"node\" id=\"node3\">\n<title>139928093677832</title>\n<polygon fill=\"none\" points=\"33,-219.5 33,-255.5 131,-255.5 131,-219.5 33,-219.5\" stroke=\"#000000\"/>\n<text fill=\"#000000\" font-family=\"Times,serif\" font-size=\"14.00\" text-anchor=\"middle\" x=\"82\" y=\"-233.8\">flatten: Flatten</text>\n</g>\n<!-- 139928094117056&#45;&gt;139928093677832 -->\n<g class=\"edge\" id=\"edge2\">\n<title>139928094117056-&gt;139928093677832</title>\n<path d=\"M82,-292.4551C82,-284.3828 82,-274.6764 82,-265.6817\" fill=\"none\" stroke=\"#000000\"/>\n<polygon fill=\"#000000\" points=\"85.5001,-265.5903 82,-255.5904 78.5001,-265.5904 85.5001,-265.5903\" stroke=\"#000000\"/>\n</g>\n<!-- 139928179394656 -->\n<g class=\"node\" id=\"node4\">\n<title>139928179394656</title>\n<polygon fill=\"none\" points=\"36,-146.5 36,-182.5 128,-182.5 128,-146.5 36,-146.5\" stroke=\"#000000\"/>\n<text fill=\"#000000\" font-family=\"Times,serif\" font-size=\"14.00\" text-anchor=\"middle\" x=\"82\" y=\"-160.8\">dense: Dense</text>\n</g>\n<!-- 139928093677832&#45;&gt;139928179394656 -->\n<g class=\"edge\" id=\"edge3\">\n<title>139928093677832-&gt;139928179394656</title>\n<path d=\"M82,-219.4551C82,-211.3828 82,-201.6764 82,-192.6817\" fill=\"none\" stroke=\"#000000\"/>\n<polygon fill=\"#000000\" points=\"85.5001,-192.5903 82,-182.5904 78.5001,-192.5904 85.5001,-192.5903\" stroke=\"#000000\"/>\n</g>\n<!-- 139927340376472 -->\n<g class=\"node\" id=\"node5\">\n<title>139927340376472</title>\n<polygon fill=\"none\" points=\"28.5,-73.5 28.5,-109.5 135.5,-109.5 135.5,-73.5 28.5,-73.5\" stroke=\"#000000\"/>\n<text fill=\"#000000\" font-family=\"Times,serif\" font-size=\"14.00\" text-anchor=\"middle\" x=\"82\" y=\"-87.8\">dense_1: Dense</text>\n</g>\n<!-- 139928179394656&#45;&gt;139927340376472 -->\n<g class=\"edge\" id=\"edge4\">\n<title>139928179394656-&gt;139927340376472</title>\n<path d=\"M82,-146.4551C82,-138.3828 82,-128.6764 82,-119.6817\" fill=\"none\" stroke=\"#000000\"/>\n<polygon fill=\"#000000\" points=\"85.5001,-119.5903 82,-109.5904 78.5001,-119.5904 85.5001,-119.5903\" stroke=\"#000000\"/>\n</g>\n<!-- 139928093676992 -->\n<g class=\"node\" id=\"node6\">\n<title>139928093676992</title>\n<polygon fill=\"none\" points=\"28.5,-.5 28.5,-36.5 135.5,-36.5 135.5,-.5 28.5,-.5\" stroke=\"#000000\"/>\n<text fill=\"#000000\" font-family=\"Times,serif\" font-size=\"14.00\" text-anchor=\"middle\" x=\"82\" y=\"-14.8\">dense_2: Dense</text>\n</g>\n<!-- 139927340376472&#45;&gt;139928093676992 -->\n<g class=\"edge\" id=\"edge5\">\n<title>139927340376472-&gt;139928093676992</title>\n<path d=\"M82,-73.4551C82,-65.3828 82,-55.6764 82,-46.6817\" fill=\"none\" stroke=\"#000000\"/>\n<polygon fill=\"#000000\" points=\"85.5001,-46.5903 82,-36.5904 78.5001,-46.5904 85.5001,-46.5903\" stroke=\"#000000\"/>\n</g>\n</g>\n</svg>"
          },
          "metadata": {
            "tags": []
          },
          "execution_count": 33
        }
      ]
    },
    {
      "cell_type": "markdown",
      "metadata": {
        "id": "Ie9OR4_fkRi6"
      },
      "source": [
        "### GloVe Pre-trained Word Embeddings\r\n"
      ]
    },
    {
      "cell_type": "code",
      "metadata": {
        "id": "wOj8Sc6vkYLp"
      },
      "source": [
        "#!wget http://nlp.stanford.edu/data/glove.6B.zip\r\n",
        "#!unzip -q glove.6B.zip"
      ],
      "execution_count": 34,
      "outputs": []
    },
    {
      "cell_type": "code",
      "metadata": {
        "id": "9lbq3X1sbom4"
      },
      "source": [
        "from gensim.models import KeyedVectors"
      ],
      "execution_count": 35,
      "outputs": []
    },
    {
      "cell_type": "code",
      "metadata": {
        "colab": {
          "base_uri": "https://localhost:8080/"
        },
        "id": "vTH26Zqpke1j",
        "outputId": "e204abcb-3573-4120-8913-8c776cf203a0"
      },
      "source": [
        "import os\r\n",
        "path_to_glove_file = os.path.join(\r\n",
        "    os.path.expanduser(\"~\"), \"/content/glove.6B.100d.txt\"\r\n",
        ")\r\n",
        "\r\n",
        "embeddings_index = {}\r\n",
        "with open(path_to_glove_file) as f:\r\n",
        "    for line in f:\r\n",
        "        word, coefs = line.split(maxsplit=1)\r\n",
        "        coefs = np.fromstring(coefs, \"f\", sep=\" \")\r\n",
        "        embeddings_index[word] = coefs\r\n",
        "\r\n",
        "print(\"Found %s word vectors.\" % len(embeddings_index))"
      ],
      "execution_count": 36,
      "outputs": [
        {
          "output_type": "stream",
          "text": [
            "Found 46429 word vectors.\n"
          ],
          "name": "stdout"
        }
      ]
    },
    {
      "cell_type": "code",
      "metadata": {
        "colab": {
          "base_uri": "https://localhost:8080/"
        },
        "id": "vmY1zQGmefji",
        "outputId": "646af1b0-d1d5-4e3f-aa21-4518bf1ad390"
      },
      "source": [
        "embeddings_index['bad']"
      ],
      "execution_count": 37,
      "outputs": [
        {
          "output_type": "execute_result",
          "data": {
            "text/plain": [
              "array([ 0.39456 , -0.24717 ,  1.0319  , -0.61444 , ..., -0.15905 ,  0.006497,  0.13793 , -0.06832 ], dtype=float32)"
            ]
          },
          "metadata": {
            "tags": []
          },
          "execution_count": 37
        }
      ]
    },
    {
      "cell_type": "code",
      "metadata": {
        "id": "FI2rAgw8tmbq"
      },
      "source": [
        "embed_num_dims = 100\r\n",
        "max_seq_len = 1000"
      ],
      "execution_count": 38,
      "outputs": []
    },
    {
      "cell_type": "code",
      "metadata": {
        "id": "vOi5E_hUcg4e"
      },
      "source": [
        "embedding_matrix = np.zeros((len(index_of_words) + 1, embed_num_dims))\r\n",
        "\r\n",
        "tokens = []\r\n",
        "labels = []\r\n",
        "\r\n",
        "for word,i in index_of_words.items():\r\n",
        "    temp = embeddings_index.get(word)\r\n",
        "    if temp is not None:\r\n",
        "        embedding_matrix[i] = temp\r\n",
        "        \r\n",
        "#for plotting\r\n",
        "        tokens.append(embedding_matrix[i])\r\n",
        "        labels.append(word)"
      ],
      "execution_count": 39,
      "outputs": []
    },
    {
      "cell_type": "code",
      "metadata": {
        "colab": {
          "base_uri": "https://localhost:8080/"
        },
        "id": "Wijp8RektvE6",
        "outputId": "9b2dcfc4-a9e0-4704-f0c4-901a71dc822f"
      },
      "source": [
        "embedding_matrix.shape"
      ],
      "execution_count": 40,
      "outputs": [
        {
          "output_type": "execute_result",
          "data": {
            "text/plain": [
              "(24798, 100)"
            ]
          },
          "metadata": {
            "tags": []
          },
          "execution_count": 40
        }
      ]
    },
    {
      "cell_type": "code",
      "metadata": {
        "colab": {
          "base_uri": "https://localhost:8080/",
          "height": 935
        },
        "id": "9Z0hOBZotyif",
        "outputId": "48d14a00-524b-4696-e180-73b416452ee9"
      },
      "source": [
        "from sklearn.manifold import TSNE\r\n",
        "\r\n",
        "#TSNE algorithm used to visualize word embeddings having huge amount (100) dimensions\r\n",
        "\r\n",
        "def tsne():    \r\n",
        "    tsne_model = TSNE(perplexity=40, n_components=2, init='pca', n_iter=2500, random_state=23)\r\n",
        "    new_values = tsne_model.fit_transform(tokens[:200])\r\n",
        "    print(new_values.shape)\r\n",
        "    \r\n",
        "    x = []\r\n",
        "    y = []\r\n",
        "    for value in new_values:\r\n",
        "        x.append(value[0])\r\n",
        "        y.append(value[1])\r\n",
        "        \r\n",
        "    plt.figure(figsize=(16,16)) \r\n",
        "    for i in range(len(x)):\r\n",
        "        plt.scatter(x[i],y[i])\r\n",
        "        plt.annotate(labels[i],\r\n",
        "                     xy=(x[i], y[i]),\r\n",
        "                     xytext=(5, 2),\r\n",
        "                     textcoords='offset points',\r\n",
        "                     ha='right',\r\n",
        "                     va='bottom')\r\n",
        "    plt.show()\r\n",
        "tsne()"
      ],
      "execution_count": 41,
      "outputs": [
        {
          "output_type": "stream",
          "text": [
            "(200, 2)\n"
          ],
          "name": "stdout"
        },
        {
          "output_type": "display_data",
          "data": {
            "image/png": "[encoded data removed]",
            "text/plain": [
              "<Figure size 1152x1152 with 1 Axes>"
            ]
          },
          "metadata": {
            "tags": [],
            "needs_background": "light"
          }
        }
      ]
    },
    {
      "cell_type": "code",
      "metadata": {
        "id": "xbvMGoV3dmep"
      },
      "source": [
        "#Embedding layer before the actaul BLSTM \r\n",
        "embedd_layer = Embedding(len(index_of_words) + 1 , embed_num_dims , input_length = max_seq_len , weights = [embedding_matrix])"
      ],
      "execution_count": 42,
      "outputs": []
    },
    {
      "cell_type": "code",
      "metadata": {
        "id": "kPlCoFP3nVUC",
        "colab": {
          "base_uri": "https://localhost:8080/"
        },
        "outputId": "b3ba7ac4-9d0f-4b7e-9435-cc158b4c08b9"
      },
      "source": [
        "from IPython.display import SVG\r\n",
        "from keras.utils.vis_utils import model_to_dot\r\n",
        "\r\n",
        "sentiment_glove_model = Sequential()\r\n",
        "sentiment_glove_model.add(embedd_layer)\r\n",
        "sentiment_glove_model.add(Bidirectional(LSTM(30 , return_sequences = True , dropout = 0.1 , recurrent_dropout = 0.1)))\r\n",
        "sentiment_glove_model.add(GlobalMaxPooling1D())\r\n",
        "sentiment_glove_model.add(Dense(30,activation = 'relu'))\r\n",
        "sentiment_glove_model.add(Dropout(0.2))\r\n",
        "sentiment_glove_model.add(Dense(6,activation = 'sigmoid'))\r\n",
        "\r\n",
        "sentiment_glove_model.summary()\r\n",
        "add = Adam(lr = 0.01)\r\n",
        "sentiment_glove_model.compile(loss = 'categorical_crossentropy' , optimizer = add , metrics = ['accuracy'])"
      ],
      "execution_count": 48,
      "outputs": [
        {
          "output_type": "stream",
          "text": [
            "WARNING:tensorflow:Layer lstm_2 will not use cuDNN kernel since it doesn't meet the cuDNN kernel criteria. It will use generic GPU kernel as fallback when running on GPU\n",
            "WARNING:tensorflow:Layer lstm_2 will not use cuDNN kernel since it doesn't meet the cuDNN kernel criteria. It will use generic GPU kernel as fallback when running on GPU\n",
            "WARNING:tensorflow:Layer lstm_2 will not use cuDNN kernel since it doesn't meet the cuDNN kernel criteria. It will use generic GPU kernel as fallback when running on GPU\n",
            "Model: \"sequential_3\"\n",
            "_________________________________________________________________\n",
            "Layer (type)                 Output Shape              Param #   \n",
            "=================================================================\n",
            "embedding_1 (Embedding)      (None, 1000, 100)         2479800   \n",
            "_________________________________________________________________\n",
            "bidirectional_2 (Bidirection (None, 1000, 60)          31440     \n",
            "_________________________________________________________________\n",
            "global_max_pooling1d_2 (Glob (None, 60)                0         \n",
            "_________________________________________________________________\n",
            "dense_7 (Dense)              (None, 30)                1830      \n",
            "_________________________________________________________________\n",
            "dropout_2 (Dropout)          (None, 30)                0         \n",
            "_________________________________________________________________\n",
            "dense_8 (Dense)              (None, 6)                 186       \n",
            "=================================================================\n",
            "Total params: 2,513,256\n",
            "Trainable params: 2,513,256\n",
            "Non-trainable params: 0\n",
            "_________________________________________________________________\n"
          ],
          "name": "stdout"
        }
      ]
    },
    {
      "cell_type": "code",
      "metadata": {
        "id": "IAI2YvLrud3C"
      },
      "source": [
        "from keras.optimizers import Adam\r\n",
        "add = Adam(lr = 0.01)\r\n",
        "sentiment_glove_model.compile(loss = 'categorical_crossentropy' , optimizer = add , metrics = ['accuracy'])"
      ],
      "execution_count": 50,
      "outputs": []
    },
    {
      "cell_type": "code",
      "metadata": {
        "colab": {
          "base_uri": "https://localhost:8080/"
        },
        "id": "-qtjJKJoeLTv",
        "outputId": "c7669020-5715-4cad-ec28-74b01f329feb"
      },
      "source": [
        "sentiment_glove_model.summary()"
      ],
      "execution_count": 51,
      "outputs": [
        {
          "output_type": "stream",
          "text": [
            "Model: \"sequential_3\"\n",
            "_________________________________________________________________\n",
            "Layer (type)                 Output Shape              Param #   \n",
            "=================================================================\n",
            "embedding_1 (Embedding)      (None, 1000, 100)         2479800   \n",
            "_________________________________________________________________\n",
            "bidirectional_2 (Bidirection (None, 1000, 60)          31440     \n",
            "_________________________________________________________________\n",
            "global_max_pooling1d_2 (Glob (None, 60)                0         \n",
            "_________________________________________________________________\n",
            "dense_7 (Dense)              (None, 30)                1830      \n",
            "_________________________________________________________________\n",
            "dropout_2 (Dropout)          (None, 30)                0         \n",
            "_________________________________________________________________\n",
            "dense_8 (Dense)              (None, 6)                 186       \n",
            "=================================================================\n",
            "Total params: 2,513,256\n",
            "Trainable params: 2,513,256\n",
            "Non-trainable params: 0\n",
            "_________________________________________________________________\n"
          ],
          "name": "stdout"
        }
      ]
    },
    {
      "cell_type": "markdown",
      "metadata": {
        "id": "0H1Y_yAq2LZM"
      },
      "source": [
        "### Make ULMFit classification model.\r\n",
        "#### Load ULMFit module and start tensorflow session"
      ]
    },
    {
      "cell_type": "code",
      "metadata": {
        "colab": {
          "base_uri": "https://localhost:8080/",
          "height": 195
        },
        "id": "jdP-2nMJkaKW",
        "outputId": "7eb18bdb-ac81-4e7c-fcab-5beb5bb9b41e"
      },
      "source": [
        "data = data.reindex(np.random.permutation(data.index))\r\n",
        "data.head()"
      ],
      "execution_count": null,
      "outputs": [
        {
          "output_type": "execute_result",
          "data": {
            "text/html": [
              "<div>\n",
              "<style scoped>\n",
              "    .dataframe tbody tr th:only-of-type {\n",
              "        vertical-align: middle;\n",
              "    }\n",
              "\n",
              "    .dataframe tbody tr th {\n",
              "        vertical-align: top;\n",
              "    }\n",
              "\n",
              "    .dataframe thead th {\n",
              "        text-align: right;\n",
              "    }\n",
              "</style>\n",
              "<table border=\"1\" class=\"dataframe\">\n",
              "  <thead>\n",
              "    <tr style=\"text-align: right;\">\n",
              "      <th></th>\n",
              "      <th>review</th>\n",
              "      <th>sentiments</th>\n",
              "    </tr>\n",
              "  </thead>\n",
              "  <tbody>\n",
              "    <tr>\n",
              "      <th>1454</th>\n",
              "      <td>\\n Summary of paper\\nThe paper proposes an alg...</td>\n",
              "      <td>Neutral</td>\n",
              "    </tr>\n",
              "    <tr>\n",
              "      <th>127</th>\n",
              "      <td>To date the theoretical advantage of deep lear...</td>\n",
              "      <td>Positive</td>\n",
              "    </tr>\n",
              "    <tr>\n",
              "      <th>2375</th>\n",
              "      <td>\\nThe paper proposes LSDNET an active vision ...</td>\n",
              "      <td>Neutral</td>\n",
              "    </tr>\n",
              "    <tr>\n",
              "      <th>2216</th>\n",
              "      <td>This paper proposes another entropic regulariz...</td>\n",
              "      <td>Neutral</td>\n",
              "    </tr>\n",
              "    <tr>\n",
              "      <th>463</th>\n",
              "      <td>The paper presents a novel adversarial trainin...</td>\n",
              "      <td>Neutral</td>\n",
              "    </tr>\n",
              "  </tbody>\n",
              "</table>\n",
              "</div>"
            ],
            "text/plain": [
              "                                                 review sentiments\n",
              "1454  \\n Summary of paper\\nThe paper proposes an alg...    Neutral\n",
              "127   To date the theoretical advantage of deep lear...   Positive\n",
              "2375   \\nThe paper proposes LSDNET an active vision ...    Neutral\n",
              "2216  This paper proposes another entropic regulariz...    Neutral\n",
              "463   The paper presents a novel adversarial trainin...    Neutral"
            ]
          },
          "metadata": {
            "tags": []
          },
          "execution_count": 24
        }
      ]
    },
    {
      "cell_type": "code",
      "metadata": {
        "id": "z3J-_va_pvpG"
      },
      "source": [
        "# Text Pre-processing\r\n",
        "# def text_cleaning(tweet):\r\n",
        "#     letters = re.sub(\"[^a-zA-Z]\",\" \",tweet)\r\n",
        "#     ht = re.sub(r'http\\S+', '',letters)\r\n",
        "#     mention = re.sub(r'@\\w+', '', ht)\r\n",
        "#     p = re.sub(r'[^\\w\\s]','',mention)\r\n",
        "#     words = p.lower().split()\r\n",
        "#     stops = set(stopwords.words(\"english\"))\r\n",
        "#     meaningful_words = [w for w in words if not w in stops]\r\n",
        "#     return( \" \".join(meaningful_words))\r\n",
        "# data['text_clean']=data['review'].apply(lambda x: text_cleaning(x))"
      ],
      "execution_count": null,
      "outputs": []
    },
    {
      "cell_type": "code",
      "metadata": {
        "id": "ZwUOsAQOjqr8"
      },
      "source": [
        "# Y = data['sentiments']\r\n",
        "# lenc = LabelEncoder()\r\n",
        "# Y = lenc.fit_transform(Y)\r\n",
        "# Y = to_categorical(Y)"
      ],
      "execution_count": null,
      "outputs": []
    },
    {
      "cell_type": "code",
      "metadata": {
        "id": "nmLv1Rt4kE_o"
      },
      "source": [
        "# X_train, X_test, y_train, y_test = train_test_split(data['review'], Y, test_size=0.2,random_state=37)"
      ],
      "execution_count": null,
      "outputs": []
    },
    {
      "cell_type": "code",
      "metadata": {
        "colab": {
          "base_uri": "https://localhost:8080/"
        },
        "id": "JHO2vyM7IYRl",
        "outputId": "febbcbc5-54e0-4bf7-eff3-1b233cab6621"
      },
      "source": [
        "max_words = len(set(\" \".join(X_train).split()))\r\n",
        "max_len = X_train.apply(lambda x: len(x)).max()\r\n",
        "max_words, max_len"
      ],
      "execution_count": null,
      "outputs": [
        {
          "output_type": "execute_result",
          "data": {
            "text/plain": [
              "(27200, 13460)"
            ]
          },
          "metadata": {
            "tags": []
          },
          "execution_count": 28
        }
      ]
    },
    {
      "cell_type": "code",
      "metadata": {
        "id": "tQtNgoUVGz6Q"
      },
      "source": [
        "#Tokenizer \r\n",
        "tk = Tokenizer(num_words=max_words)\r\n",
        "tk.fit_on_texts(X_train)\r\n",
        "X_train_tk = tk.texts_to_sequences(X_train)\r\n",
        "X_test_tk = tk.texts_to_sequences(X_test)"
      ],
      "execution_count": null,
      "outputs": []
    },
    {
      "cell_type": "code",
      "metadata": {
        "id": "TCtuzvLg__3-"
      },
      "source": [
        "#Padding sequences\r\n",
        "X_train_pad = sequence.pad_sequences(X_train_tk, maxlen=max_len)\r\n",
        "X_test_pad = sequence.pad_sequences(X_test_tk, maxlen = max_len)"
      ],
      "execution_count": null,
      "outputs": []
    },
    {
      "cell_type": "code",
      "metadata": {
        "id": "xHbHfh2EEA9t"
      },
      "source": [
        "num_classes = 3"
      ],
      "execution_count": null,
      "outputs": []
    },
    {
      "cell_type": "code",
      "metadata": {
        "colab": {
          "base_uri": "https://localhost:8080/"
        },
        "id": "UQocc04DFDTD",
        "outputId": "7a3c5bba-e449-4c64-9615-aed51e6326eb"
      },
      "source": [
        "#Class weights Implementation for unbalanced dataset\r\n",
        "def get_weight(y):\r\n",
        "    class_weight_current = cw.compute_class_weight('balanced', np.unique(y), y)\r\n",
        "    return class_weight_current\r\n",
        "class_weight = get_weight(y_train.flatten())\r\n",
        "print(class_weight)"
      ],
      "execution_count": null,
      "outputs": [
        {
          "output_type": "stream",
          "text": [
            "[0.75 1.5 ]\n"
          ],
          "name": "stdout"
        }
      ]
    },
    {
      "cell_type": "code",
      "metadata": {
        "id": "CG69NcMyD8TI"
      },
      "source": [
        "#base model\r\n",
        "deep_lr_model = Sequential()\r\n",
        "deep_lr_model.add(Embedding(max_words,128,input_length=max_len))\r\n",
        "deep_lr_model.add(LSTM(128))\r\n",
        "deep_lr_model.add(Dense(num_classes, activation='sigmoid'))\r\n",
        "deep_lr_model.compile(optimizer='adam', loss='categorical_crossentropy', metrics=['accuracy'])\r\n",
        "deep_lr_model.summary()"
      ],
      "execution_count": null,
      "outputs": []
    },
    {
      "cell_type": "code",
      "metadata": {
        "colab": {
          "background_save": true
        },
        "id": "iw36DQ9WtdId"
      },
      "source": [
        "deep_lr_model.fit(X_train_pad, y_train, epochs=8, batch_size=32, validation_data=(X_test_pad,y_test), verbose=1)"
      ],
      "execution_count": null,
      "outputs": []
    },
    {
      "cell_type": "code",
      "metadata": {
        "colab": {
          "base_uri": "https://localhost:8080/"
        },
        "id": "qqhbWTeVF5Xp",
        "outputId": "e7ebeec0-165d-4bb4-c6b4-0eac4a6d3fcf"
      },
      "source": [
        "score = deep_lr_model.evaluate(X_test_pad,y_test)"
      ],
      "execution_count": null,
      "outputs": [
        {
          "output_type": "stream",
          "text": [
            "16/16 [==============================] - 5s 279ms/step - loss: 2.4667 - accuracy: 0.3708\n"
          ],
          "name": "stdout"
        }
      ]
    },
    {
      "cell_type": "code",
      "metadata": {
        "colab": {
          "base_uri": "https://localhost:8080/"
        },
        "id": "bSmAgDG85zeu",
        "outputId": "9cc0194e-6a95-4872-b313-87712a2ca854"
      },
      "source": [
        "print(\"Test Accuracy of Base Model:\",score[1])"
      ],
      "execution_count": null,
      "outputs": [
        {
          "output_type": "stream",
          "text": [
            "Test Accuracy of Base Model: 0.3708086907863617\n"
          ],
          "name": "stdout"
        }
      ]
    },
    {
      "cell_type": "code",
      "metadata": {
        "id": "ZqdmnRGymjxh"
      },
      "source": [
        "# data = data[['sentiments','review']]\r\n",
        "# data.head(2)"
      ],
      "execution_count": null,
      "outputs": []
    },
    {
      "cell_type": "code",
      "metadata": {
        "id": "IaLd7ZAaGIxa"
      },
      "source": [
        "train = data[:int(len(data)*.99)]\r\n",
        "valid = data[int(len(data)*.99):]"
      ],
      "execution_count": null,
      "outputs": []
    },
    {
      "cell_type": "code",
      "metadata": {
        "colab": {
          "base_uri": "https://localhost:8080/",
          "height": 70
        },
        "id": "Eirpa68htixz",
        "outputId": "f1c3f9d7-15f6-46ed-c622-7f8b689b02e4"
      },
      "source": [
        "lm_dat = TextLMDataBunch.from_df(path, train, valid)\r\n",
        "lm_dat.save('data_lm_export.pkl')"
      ],
      "execution_count": null,
      "outputs": [
        {
          "output_type": "display_data",
          "data": {
            "text/html": [
              ""
            ],
            "text/plain": [
              "<IPython.core.display.HTML object>"
            ]
          },
          "metadata": {
            "tags": []
          }
        },
        {
          "output_type": "stream",
          "text": [
            "/usr/local/lib/python3.6/dist-packages/fastai/core.py:302: VisibleDeprecationWarning: Creating an ndarray from ragged nested sequences (which is a list-or-tuple of lists-or-tuples-or ndarrays with different lengths or shapes) is deprecated. If you meant to do this, you must specify 'dtype=object' when creating the ndarray\n",
            "  return np.array(a, dtype=dtype, **kwargs)\n"
          ],
          "name": "stderr"
        },
        {
          "output_type": "display_data",
          "data": {
            "text/html": [
              ""
            ],
            "text/plain": [
              "<IPython.core.display.HTML object>"
            ]
          },
          "metadata": {
            "tags": []
          }
        }
      ]
    },
    {
      "cell_type": "code",
      "metadata": {
        "id": "iYUyYlbri2ze"
      },
      "source": [
        "lm_learn = language_model_learner(lm_dat, AWD_LSTM, drop_mult=0.4)"
      ],
      "execution_count": null,
      "outputs": []
    },
    {
      "cell_type": "code",
      "metadata": {
        "colab": {
          "base_uri": "https://localhost:8080/",
          "height": 372
        },
        "id": "KIY5MW34V6nn",
        "outputId": "51793d71-750c-4b45-df1b-6d75c1b6e36f"
      },
      "source": [
        "lm_learn.lr_find()\r\n",
        "lm_learn.recorder.plot()"
      ],
      "execution_count": null,
      "outputs": [
        {
          "output_type": "display_data",
          "data": {
            "text/html": [
              "\n",
              "    <div>\n",
              "        <style>\n",
              "            /* Turns off some styling */\n",
              "            progress {\n",
              "                /* gets rid of default border in Firefox and Opera. */\n",
              "                border: none;\n",
              "                /* Needs to be in here for Safari polyfill so background images work as expected. */\n",
              "                background-size: auto;\n",
              "            }\n",
              "            .progress-bar-interrupted, .progress-bar-interrupted::-webkit-progress-bar {\n",
              "                background: #F44336;\n",
              "            }\n",
              "        </style>\n",
              "      <progress value='0' class='' max='1' style='width:300px; height:20px; vertical-align: middle;'></progress>\n",
              "      0.00% [0/1 00:00<00:00]\n",
              "    </div>\n",
              "    \n",
              "<table border=\"1\" class=\"dataframe\">\n",
              "  <thead>\n",
              "    <tr style=\"text-align: left;\">\n",
              "      <th>epoch</th>\n",
              "      <th>train_loss</th>\n",
              "      <th>valid_loss</th>\n",
              "      <th>accuracy</th>\n",
              "      <th>time</th>\n",
              "    </tr>\n",
              "  </thead>\n",
              "  <tbody>\n",
              "  </tbody>\n",
              "</table><p>\n",
              "\n",
              "    <div>\n",
              "        <style>\n",
              "            /* Turns off some styling */\n",
              "            progress {\n",
              "                /* gets rid of default border in Firefox and Opera. */\n",
              "                border: none;\n",
              "                /* Needs to be in here for Safari polyfill so background images work as expected. */\n",
              "                background-size: auto;\n",
              "            }\n",
              "            .progress-bar-interrupted, .progress-bar-interrupted::-webkit-progress-bar {\n",
              "                background: #F44336;\n",
              "            }\n",
              "        </style>\n",
              "      <progress value='99' class='' max='273' style='width:300px; height:20px; vertical-align: middle;'></progress>\n",
              "      36.26% [99/273 00:11<00:19 10.3625]\n",
              "    </div>\n",
              "    "
            ],
            "text/plain": [
              "<IPython.core.display.HTML object>"
            ]
          },
          "metadata": {
            "tags": []
          }
        },
        {
          "output_type": "stream",
          "text": [
            "LR Finder is complete, type {learner_name}.recorder.plot() to see the graph.\n"
          ],
          "name": "stdout"
        },
        {
          "output_type": "display_data",
          "data": {
            "image/png": "[encoded data removed]",
            "text/plain": [
              "<Figure size 432x288 with 1 Axes>"
            ]
          },
          "metadata": {
            "tags": []
          }
        }
      ]
    },
    {
      "cell_type": "code",
      "metadata": {
        "colab": {
          "base_uri": "https://localhost:8080/",
          "height": 166
        },
        "id": "XsnjBMPiV_FI",
        "outputId": "75a681bc-e859-47ad-efba-24f6f4e0ec3b"
      },
      "source": [
        "lm_learn.fit_one_cycle(4, 1e-2)"
      ],
      "execution_count": null,
      "outputs": [
        {
          "output_type": "display_data",
          "data": {
            "text/html": [
              "<table border=\"1\" class=\"dataframe\">\n",
              "  <thead>\n",
              "    <tr style=\"text-align: left;\">\n",
              "      <th>epoch</th>\n",
              "      <th>train_loss</th>\n",
              "      <th>valid_loss</th>\n",
              "      <th>accuracy</th>\n",
              "      <th>time</th>\n",
              "    </tr>\n",
              "  </thead>\n",
              "  <tbody>\n",
              "    <tr>\n",
              "      <td>0</td>\n",
              "      <td>4.097306</td>\n",
              "      <td>3.981760</td>\n",
              "      <td>0.297842</td>\n",
              "      <td>00:30</td>\n",
              "    </tr>\n",
              "    <tr>\n",
              "      <td>1</td>\n",
              "      <td>3.796967</td>\n",
              "      <td>3.853087</td>\n",
              "      <td>0.306399</td>\n",
              "      <td>00:30</td>\n",
              "    </tr>\n",
              "    <tr>\n",
              "      <td>2</td>\n",
              "      <td>3.530911</td>\n",
              "      <td>3.795106</td>\n",
              "      <td>0.312946</td>\n",
              "      <td>00:30</td>\n",
              "    </tr>\n",
              "    <tr>\n",
              "      <td>3</td>\n",
              "      <td>3.330848</td>\n",
              "      <td>3.784266</td>\n",
              "      <td>0.313542</td>\n",
              "      <td>00:30</td>\n",
              "    </tr>\n",
              "  </tbody>\n",
              "</table>"
            ],
            "text/plain": [
              "<IPython.core.display.HTML object>"
            ]
          },
          "metadata": {
            "tags": []
          }
        }
      ]
    },
    {
      "cell_type": "code",
      "metadata": {
        "colab": {
          "base_uri": "https://localhost:8080/",
          "height": 372
        },
        "id": "z5loJ3SrwJl5",
        "outputId": "bf191144-97a9-44dc-cb8b-c8cb41cc98f1"
      },
      "source": [
        "lm_learn.unfreeze()\r\n",
        "lm_learn.lr_find(); lm_learn.recorder.plot()"
      ],
      "execution_count": null,
      "outputs": [
        {
          "output_type": "display_data",
          "data": {
            "text/html": [
              "\n",
              "    <div>\n",
              "        <style>\n",
              "            /* Turns off some styling */\n",
              "            progress {\n",
              "                /* gets rid of default border in Firefox and Opera. */\n",
              "                border: none;\n",
              "                /* Needs to be in here for Safari polyfill so background images work as expected. */\n",
              "                background-size: auto;\n",
              "            }\n",
              "            .progress-bar-interrupted, .progress-bar-interrupted::-webkit-progress-bar {\n",
              "                background: #F44336;\n",
              "            }\n",
              "        </style>\n",
              "      <progress value='0' class='' max='1' style='width:300px; height:20px; vertical-align: middle;'></progress>\n",
              "      0.00% [0/1 00:00<00:00]\n",
              "    </div>\n",
              "    \n",
              "<table border=\"1\" class=\"dataframe\">\n",
              "  <thead>\n",
              "    <tr style=\"text-align: left;\">\n",
              "      <th>epoch</th>\n",
              "      <th>train_loss</th>\n",
              "      <th>valid_loss</th>\n",
              "      <th>accuracy</th>\n",
              "      <th>time</th>\n",
              "    </tr>\n",
              "  </thead>\n",
              "  <tbody>\n",
              "  </tbody>\n",
              "</table><p>\n",
              "\n",
              "    <div>\n",
              "        <style>\n",
              "            /* Turns off some styling */\n",
              "            progress {\n",
              "                /* gets rid of default border in Firefox and Opera. */\n",
              "                border: none;\n",
              "                /* Needs to be in here for Safari polyfill so background images work as expected. */\n",
              "                background-size: auto;\n",
              "            }\n",
              "            .progress-bar-interrupted, .progress-bar-interrupted::-webkit-progress-bar {\n",
              "                background: #F44336;\n",
              "            }\n",
              "        </style>\n",
              "      <progress value='98' class='' max='273' style='width:300px; height:20px; vertical-align: middle;'></progress>\n",
              "      35.90% [98/273 00:13<00:24 11.9014]\n",
              "    </div>\n",
              "    "
            ],
            "text/plain": [
              "<IPython.core.display.HTML object>"
            ]
          },
          "metadata": {
            "tags": []
          }
        },
        {
          "output_type": "stream",
          "text": [
            "LR Finder is complete, type {learner_name}.recorder.plot() to see the graph.\n"
          ],
          "name": "stdout"
        },
        {
          "output_type": "display_data",
          "data": {
            "image/png": "[encoded data removed]",
            "text/plain": [
              "<Figure size 432x288 with 1 Axes>"
            ]
          },
          "metadata": {
            "tags": []
          }
        }
      ]
    },
    {
      "cell_type": "code",
      "metadata": {
        "colab": {
          "base_uri": "https://localhost:8080/",
          "height": 166
        },
        "id": "uf08XSCgswnb",
        "outputId": "93a7c047-3ad3-43ce-efbd-f25541a76644"
      },
      "source": [
        "lm_learn.fit_one_cycle(4, 1e-3)\r\n",
        "#Encoder\r\n",
        "lm_learn.save_encoder('ft_enc')"
      ],
      "execution_count": null,
      "outputs": [
        {
          "output_type": "display_data",
          "data": {
            "text/html": [
              "<table border=\"1\" class=\"dataframe\">\n",
              "  <thead>\n",
              "    <tr style=\"text-align: left;\">\n",
              "      <th>epoch</th>\n",
              "      <th>train_loss</th>\n",
              "      <th>valid_loss</th>\n",
              "      <th>accuracy</th>\n",
              "      <th>time</th>\n",
              "    </tr>\n",
              "  </thead>\n",
              "  <tbody>\n",
              "    <tr>\n",
              "      <td>0</td>\n",
              "      <td>3.263110</td>\n",
              "      <td>3.737539</td>\n",
              "      <td>0.319196</td>\n",
              "      <td>00:38</td>\n",
              "    </tr>\n",
              "    <tr>\n",
              "      <td>1</td>\n",
              "      <td>3.163275</td>\n",
              "      <td>3.702984</td>\n",
              "      <td>0.326116</td>\n",
              "      <td>00:38</td>\n",
              "    </tr>\n",
              "    <tr>\n",
              "      <td>2</td>\n",
              "      <td>2.940925</td>\n",
              "      <td>3.717315</td>\n",
              "      <td>0.326191</td>\n",
              "      <td>00:38</td>\n",
              "    </tr>\n",
              "    <tr>\n",
              "      <td>3</td>\n",
              "      <td>2.758349</td>\n",
              "      <td>3.741028</td>\n",
              "      <td>0.324851</td>\n",
              "      <td>00:38</td>\n",
              "    </tr>\n",
              "  </tbody>\n",
              "</table>"
            ],
            "text/plain": [
              "<IPython.core.display.HTML object>"
            ]
          },
          "metadata": {
            "tags": []
          }
        }
      ]
    },
    {
      "cell_type": "code",
      "metadata": {
        "id": "TB2umlB-szYQ"
      },
      "source": [
        "#Splitting the dataset in 80:20 ratio\r\n",
        "train = data[:int(len(data)*.80)]\r\n",
        "valid = data[int(len(data)*.80):]"
      ],
      "execution_count": null,
      "outputs": []
    },
    {
      "cell_type": "code",
      "metadata": {
        "id": "wLIXI5pEs117"
      },
      "source": [
        "# Classifier model data\r\n",
        "data_clas = TextClasDataBunch.from_df(path, train, valid, vocab=lm_dat.train_ds.vocab, bs=32)\r\n",
        "data_clas.save('data_clas_export.pkl'); \r\n",
        "data_clas = load_data(path, 'data_clas_export.pkl', bs=16)"
      ],
      "execution_count": null,
      "outputs": []
    },
    {
      "cell_type": "code",
      "metadata": {
        "id": "T0A99ETXv7PH"
      },
      "source": [
        "#Building a classifier with fine-tuned encoder \r\n",
        "lm_learn = text_classifier_learner(data_clas, AWD_LSTM, drop_mult=.3, metrics=[accuracy,Precision(average='weighted'),Recall(average='weighted')])\r\n",
        "lm_learn.load_encoder('ft_enc')"
      ],
      "execution_count": null,
      "outputs": []
    },
    {
      "cell_type": "code",
      "metadata": {
        "id": "spxcuF71yrO-"
      },
      "source": [
        "data_clas.show_batch()"
      ],
      "execution_count": null,
      "outputs": []
    },
    {
      "cell_type": "code",
      "metadata": {
        "colab": {
          "base_uri": "https://localhost:8080/",
          "height": 442
        },
        "id": "H5WJFsjZs8vF",
        "outputId": "3327d277-4b7b-4d0c-c254-16f526629cc0"
      },
      "source": [
        "lm_learn.lr_find()\r\n",
        "lm_learn.recorder.plot()"
      ],
      "execution_count": null,
      "outputs": [
        {
          "output_type": "display_data",
          "data": {
            "text/html": [
              "\n",
              "    <div>\n",
              "        <style>\n",
              "            /* Turns off some styling */\n",
              "            progress {\n",
              "                /* gets rid of default border in Firefox and Opera. */\n",
              "                border: none;\n",
              "                /* Needs to be in here for Safari polyfill so background images work as expected. */\n",
              "                background-size: auto;\n",
              "            }\n",
              "            .progress-bar-interrupted, .progress-bar-interrupted::-webkit-progress-bar {\n",
              "                background: #F44336;\n",
              "            }\n",
              "        </style>\n",
              "      <progress value='0' class='' max='1' style='width:300px; height:20px; vertical-align: middle;'></progress>\n",
              "      0.00% [0/1 00:00<00:00]\n",
              "    </div>\n",
              "    \n",
              "<table border=\"1\" class=\"dataframe\">\n",
              "  <thead>\n",
              "    <tr style=\"text-align: left;\">\n",
              "      <th>epoch</th>\n",
              "      <th>train_loss</th>\n",
              "      <th>valid_loss</th>\n",
              "      <th>accuracy</th>\n",
              "      <th>precision</th>\n",
              "      <th>recall</th>\n",
              "      <th>time</th>\n",
              "    </tr>\n",
              "  </thead>\n",
              "  <tbody>\n",
              "  </tbody>\n",
              "</table><p>\n",
              "\n",
              "    <div>\n",
              "        <style>\n",
              "            /* Turns off some styling */\n",
              "            progress {\n",
              "                /* gets rid of default border in Firefox and Opera. */\n",
              "                border: none;\n",
              "                /* Needs to be in here for Safari polyfill so background images work as expected. */\n",
              "                background-size: auto;\n",
              "            }\n",
              "            .progress-bar-interrupted, .progress-bar-interrupted::-webkit-progress-bar {\n",
              "                background: #F44336;\n",
              "            }\n",
              "        </style>\n",
              "      <progress value='95' class='' max='126' style='width:300px; height:20px; vertical-align: middle;'></progress>\n",
              "      75.40% [95/126 00:27<00:08 3.7438]\n",
              "    </div>\n",
              "    "
            ],
            "text/plain": [
              "<IPython.core.display.HTML object>"
            ]
          },
          "metadata": {
            "tags": []
          }
        },
        {
          "output_type": "stream",
          "text": [
            "/usr/local/lib/python3.6/dist-packages/numpy/core/_asarray.py:83: VisibleDeprecationWarning: Creating an ndarray from ragged nested sequences (which is a list-or-tuple of lists-or-tuples-or ndarrays with different lengths or shapes) is deprecated. If you meant to do this, you must specify 'dtype=object' when creating the ndarray\n",
            "  return array(a, dtype, copy=False, order=order)\n",
            "<string>:6: VisibleDeprecationWarning: Creating an ndarray from ragged nested sequences (which is a list-or-tuple of lists-or-tuples-or ndarrays with different lengths or shapes) is deprecated. If you meant to do this, you must specify 'dtype=object' when creating the ndarray\n"
          ],
          "name": "stderr"
        },
        {
          "output_type": "stream",
          "text": [
            "LR Finder is complete, type {learner_name}.recorder.plot() to see the graph.\n"
          ],
          "name": "stdout"
        },
        {
          "output_type": "display_data",
          "data": {
            "image/png": "[encoded data removed]",
            "text/plain": [
              "<Figure size 432x288 with 1 Axes>"
            ]
          },
          "metadata": {
            "tags": []
          }
        }
      ]
    },
    {
      "cell_type": "code",
      "metadata": {
        "id": "KA8rftH3s9T3"
      },
      "source": [
        "lm_learn.fit_one_cycle(4, 1e-2)"
      ],
      "execution_count": null,
      "outputs": []
    },
    {
      "cell_type": "code",
      "metadata": {
        "id": "UaIrXYHH0V0T"
      },
      "source": [
        "lm_learn.freeze_to(-2)\r\n",
        "lm_learn.fit_one_cycle(4, slice(1e-3/(2.6**4), 1e-3))"
      ],
      "execution_count": null,
      "outputs": []
    },
    {
      "cell_type": "code",
      "metadata": {
        "id": "IMHkEfqJ3CBG"
      },
      "source": [
        "lm_learn.unfreeze()\r\n",
        "lm_learn.fit_one_cycle(8, slice(1e-5/(2.6**4),1e-5))\r\n",
        "lm_learn.save('final')"
      ],
      "execution_count": null,
      "outputs": []
    },
    {
      "cell_type": "code",
      "metadata": {
        "colab": {
          "base_uri": "https://localhost:8080/"
        },
        "id": "LVCIcq9D3MZ8",
        "outputId": "6b8057fd-05cc-484a-f848-b26255a848f2"
      },
      "source": [
        "#Obtaining Test Accuracy\r\n",
        "valid['pred_sentiment'] = valid['review'].apply(lambda row: str(lm_learn.predict(row)[0]))\r\n",
        "print(\"Test Accuracy: \", accuracy_score(valid['sentiments'], valid['pred_sentiment']))"
      ],
      "execution_count": null,
      "outputs": [
        {
          "output_type": "stream",
          "text": [
            "Test Accuracy:  0.5522682445759369\n"
          ],
          "name": "stdout"
        },
        {
          "output_type": "stream",
          "text": [
            "/usr/local/lib/python3.6/dist-packages/ipykernel_launcher.py:2: SettingWithCopyWarning: \n",
            "A value is trying to be set on a copy of a slice from a DataFrame.\n",
            "Try using .loc[row_indexer,col_indexer] = value instead\n",
            "\n",
            "See the caveats in the documentation: https://pandas.pydata.org/pandas-docs/stable/user_guide/indexing.html#returning-a-view-versus-a-copy\n",
            "  \n"
          ],
          "name": "stderr"
        }
      ]
    },
    {
      "cell_type": "code",
      "metadata": {
        "id": "nBet33LP-dnJ"
      },
      "source": [
        "#Creation of list of reviews\r\n",
        "review_of_paper = [\"This paper presents a comprehensive framework of neural networks with a complex value. The accompanying literature identifies the various motives of neural networks with complex value: blood evidence, rich representation, simplification, rapid learning, powerful memory retrieval methods and more.\",\r\n",
        "                   \"The paper proposes a neural network architecture for associative retrieval based on fast weights with context-dependent gated updates. The architecture consists of a network which provides weight updates for the network which outputs the predictions of the system. The experiments show that the architecture outperforms a couple of related models on an associative retrieval problem.\",\r\n",
        "                   \"I think the main result of the paper is not surprising and does not show much beyond we can do pretraining on unlabeled datasets from a similar domain to the domain of interest.\"]"
      ],
      "execution_count": null,
      "outputs": []
    },
    {
      "cell_type": "code",
      "metadata": {
        "id": "GXtehaKI_ZFi"
      },
      "source": [
        "#Creating a dataframe\r\n",
        "data = pd.DataFrame(review_of_paper,columns=['Paper Reviews'])"
      ],
      "execution_count": null,
      "outputs": []
    },
    {
      "cell_type": "code",
      "metadata": {
        "colab": {
          "base_uri": "https://localhost:8080/",
          "height": 136
        },
        "id": "ekNT1sp-_g0A",
        "outputId": "57930c72-7550-42cd-cad4-d2eea7a10f5f"
      },
      "source": [
        "#Prediction of sentiment of Dataframe's reviews\r\n",
        "data['pred_sentiment'] = data['Paper Reviews'].apply(lambda row: str(lm_learn.predict(row)[0]))\r\n",
        "data"
      ],
      "execution_count": null,
      "outputs": [
        {
          "output_type": "execute_result",
          "data": {
            "text/html": [
              "<div>\n",
              "<style scoped>\n",
              "    .dataframe tbody tr th:only-of-type {\n",
              "        vertical-align: middle;\n",
              "    }\n",
              "\n",
              "    .dataframe tbody tr th {\n",
              "        vertical-align: top;\n",
              "    }\n",
              "\n",
              "    .dataframe thead th {\n",
              "        text-align: right;\n",
              "    }\n",
              "</style>\n",
              "<table border=\"1\" class=\"dataframe\">\n",
              "  <thead>\n",
              "    <tr style=\"text-align: right;\">\n",
              "      <th></th>\n",
              "      <th>Paper Reviews</th>\n",
              "      <th>pred_sentiment</th>\n",
              "    </tr>\n",
              "  </thead>\n",
              "  <tbody>\n",
              "    <tr>\n",
              "      <th>0</th>\n",
              "      <td>This paper presents a comprehensive framework ...</td>\n",
              "      <td>Positive</td>\n",
              "    </tr>\n",
              "    <tr>\n",
              "      <th>1</th>\n",
              "      <td>The paper proposes a neural network architectu...</td>\n",
              "      <td>Positive</td>\n",
              "    </tr>\n",
              "    <tr>\n",
              "      <th>2</th>\n",
              "      <td>I think the main result of the paper is not su...</td>\n",
              "      <td>Negative</td>\n",
              "    </tr>\n",
              "  </tbody>\n",
              "</table>\n",
              "</div>"
            ],
            "text/plain": [
              "                                       Paper Reviews pred_sentiment\n",
              "0  This paper presents a comprehensive framework ...       Positive\n",
              "1  The paper proposes a neural network architectu...       Positive\n",
              "2  I think the main result of the paper is not su...       Negative"
            ]
          },
          "metadata": {
            "tags": []
          },
          "execution_count": 473
        }
      ]
    },
    {
      "cell_type": "markdown",
      "metadata": {
        "id": "q7ty_VqJ694P"
      },
      "source": [
        "### Creating model RNN and LSTM"
      ]
    },
    {
      "cell_type": "code",
      "metadata": {
        "colab": {
          "base_uri": "https://localhost:8080/"
        },
        "id": "uVjCnLGPk8Lg",
        "outputId": "ba3a5299-4fc2-416c-d2bb-837ecb024782"
      },
      "source": [
        "from keras.preprocessing.text import Tokenizer\r\n",
        "from keras.preprocessing.sequence import pad_sequences\r\n",
        "\r\n",
        "X_tokenizer = Tokenizer(num_words=5000, split=\" \")\r\n",
        "X_tokenizer.fit_on_texts(data['review'].values)\r\n",
        "\r\n",
        "X_tk = tokenizer.texts_to_sequences(data['review'].values)\r\n",
        "X_tk = pad_sequences(X_tk) # padding our text vector so they all have the same length\r\n",
        "X_tk[:5]"
      ],
      "execution_count": 100,
      "outputs": [
        {
          "output_type": "execute_result",
          "data": {
            "text/plain": [
              "array([[   0,    0,    0,    0, ...,  564, 7380, 3051,  482],\n",
              "       [   0,    0,    0,    0, ...,   48,    1,   32,  347],\n",
              "       [   0,    0,    0,    0, ...,    5,  334,  341,  358],\n",
              "       [   0,    0,    0,    0, ...,  918,    3,  338,   87],\n",
              "       [   0,    0,    0,    0, ...,  625,   10,  234,  389]], dtype=int32)"
            ]
          },
          "metadata": {
            "tags": []
          },
          "execution_count": 100
        }
      ]
    },
    {
      "cell_type": "code",
      "metadata": {
        "colab": {
          "base_uri": "https://localhost:8080/"
        },
        "id": "oBE_BVEgXGni",
        "outputId": "68108b68-90a2-4bd1-d590-059858ae597b"
      },
      "source": [
        "y_tk = pd.get_dummies(data['sentiments']).values\r\n",
        "[print(data['sentiments'][i], y_tk[i]) for i in range(0,10)]"
      ],
      "execution_count": 101,
      "outputs": [
        {
          "output_type": "stream",
          "text": [
            "Neutral [0 1 0]\n",
            "Positive [0 0 1]\n",
            "Positive [0 0 1]\n",
            "Positive [0 0 1]\n",
            "Negative [1 0 0]\n",
            "Positive [0 0 1]\n",
            "Positive [0 0 1]\n",
            "Negative [1 0 0]\n",
            "Neutral [0 1 0]\n",
            "Positive [0 0 1]\n"
          ],
          "name": "stdout"
        },
        {
          "output_type": "execute_result",
          "data": {
            "text/plain": [
              "[None, None, None, None, None, None, None, None, None, None]"
            ]
          },
          "metadata": {
            "tags": []
          },
          "execution_count": 101
        }
      ]
    },
    {
      "cell_type": "code",
      "metadata": {
        "id": "o1EFozpb5wY7",
        "colab": {
          "base_uri": "https://localhost:8080/"
        },
        "outputId": "5689175e-dabe-4251-8712-0eb3e4249d12"
      },
      "source": [
        "from keras.models import Sequential, load_model\r\n",
        "from keras.layers import Dense, LSTM, Embedding, Dropout\r\n",
        "from keras.preprocessing.text import Tokenizer\r\n",
        "from keras.preprocessing.sequence import pad_sequences\r\n",
        "\r\n",
        "sentiment_rnn_lstm_model = Sequential()\r\n",
        "sentiment_rnn_lstm_model.add(Embedding(5000, 256, input_length=X_tk.shape[1]))\r\n",
        "sentiment_rnn_lstm_model.add(layers.SimpleRNN(128,activation='relu',return_sequences=True))\r\n",
        "sentiment_rnn_lstm_model.add(Dropout(0.3))\r\n",
        "sentiment_rnn_lstm_model.add(LSTM(256, return_sequences=True, dropout=0.3, recurrent_dropout=0.2))\r\n",
        "sentiment_rnn_lstm_model.add(LSTM(256, dropout=0.3, recurrent_dropout=0.2))\r\n",
        "sentiment_rnn_lstm_model.add(Dense(3, activation='softmax'))\r\n",
        "sentiment_rnn_lstm_model.compile(loss='categorical_crossentropy', optimizer='adam', metrics=['accuracy'])\r\n",
        "sentiment_rnn_lstm_model.summary()"
      ],
      "execution_count": 102,
      "outputs": [
        {
          "output_type": "stream",
          "text": [
            "WARNING:tensorflow:Layer lstm_17 will not use cuDNN kernel since it doesn't meet the cuDNN kernel criteria. It will use generic GPU kernel as fallback when running on GPU\n",
            "WARNING:tensorflow:Layer lstm_18 will not use cuDNN kernel since it doesn't meet the cuDNN kernel criteria. It will use generic GPU kernel as fallback when running on GPU\n",
            "Model: \"sequential_11\"\n",
            "_________________________________________________________________\n",
            "Layer (type)                 Output Shape              Param #   \n",
            "=================================================================\n",
            "embedding_9 (Embedding)      (None, 2545, 256)         1280000   \n",
            "_________________________________________________________________\n",
            "simple_rnn_7 (SimpleRNN)     (None, 2545, 128)         49280     \n",
            "_________________________________________________________________\n",
            "dropout_10 (Dropout)         (None, 2545, 128)         0         \n",
            "_________________________________________________________________\n",
            "lstm_17 (LSTM)               (None, 2545, 256)         394240    \n",
            "_________________________________________________________________\n",
            "lstm_18 (LSTM)               (None, 256)               525312    \n",
            "_________________________________________________________________\n",
            "dense_16 (Dense)             (None, 3)                 771       \n",
            "=================================================================\n",
            "Total params: 2,249,603\n",
            "Trainable params: 2,249,603\n",
            "Non-trainable params: 0\n",
            "_________________________________________________________________\n"
          ],
          "name": "stdout"
        }
      ]
    },
    {
      "cell_type": "code",
      "metadata": {
        "id": "oPbwtlpNkCC5"
      },
      "source": [
        "Xtk_train, Xtk_test, ytk_train, ytk_test = train_test_split(X_tk, y_tk, test_size=0.2, random_state=0)"
      ],
      "execution_count": 103,
      "outputs": []
    },
    {
      "cell_type": "markdown",
      "metadata": {
        "id": "5TNN0HtA_dDC"
      },
      "source": [
        "### Training RNN and LSTM model\r\n"
      ]
    },
    {
      "cell_type": "code",
      "metadata": {
        "id": "LJJEXZFs6EGZ"
      },
      "source": [
        "batch_size = 32\r\n",
        "epochs = 8\r\n",
        "sentiment_rnn_lstm_model.fit(X, y, epochs=epochs, batch_size=batch_size, verbose=2)"
      ],
      "execution_count": null,
      "outputs": []
    },
    {
      "cell_type": "code",
      "metadata": {
        "colab": {
          "base_uri": "https://localhost:8080/"
        },
        "id": "ScYWzsKYjuVs",
        "outputId": "46c3d6b0-990d-49f0-d911-d3d6000edd0e"
      },
      "source": [
        "sentiment_rnn_lstm_model.save('sentiment_rnn_lstm_model.h5')\r\n",
        "print(sentiment_rnn_lstm_model)"
      ],
      "execution_count": null,
      "outputs": [
        {
          "output_type": "stream",
          "text": [
            "<tensorflow.python.keras.engine.sequential.Sequential object at 0x7f60a0d01a20>\n"
          ],
          "name": "stdout"
        }
      ]
    },
    {
      "cell_type": "code",
      "metadata": {
        "id": "BTjrjTxRmtyG"
      },
      "source": [
        "sentiment_rnn_lstm_model.load('/content/sentiment_rnn_lstm_model.h5')\r\n",
        "print(sentiment_rnn_lstm_model)"
      ],
      "execution_count": null,
      "outputs": []
    },
    {
      "cell_type": "code",
      "metadata": {
        "id": "CK0wvq4BjzJy"
      },
      "source": [
        "predictions = sentiment_rnn_lstm_model.predict(X_test)\r\n",
        "\r\n",
        "[print(data['review'][i], predictions[i], y_test[i]) for i in range(0, 2)]"
      ],
      "execution_count": null,
      "outputs": []
    },
    {
      "cell_type": "code",
      "metadata": {
        "colab": {
          "base_uri": "https://localhost:8080/"
        },
        "id": "j-KIVfdBkIaf",
        "outputId": "d93e3990-35bc-49c8-f280-3ad385b2a980"
      },
      "source": [
        "pos_count, neu_count, neg_count = 0, 0, 0\r\n",
        "real_pos, real_neu, real_neg = 0, 0, 0\r\n",
        "for i, prediction in enumerate(predictions):\r\n",
        "    if np.argmax(prediction)==2:\r\n",
        "        pos_count += 1\r\n",
        "    elif np.argmax(prediction)==1:\r\n",
        "        neu_count += 1\r\n",
        "    else:\r\n",
        "        neg_count += 1\r\n",
        "    \r\n",
        "    if np.argmax(y_test[i])==2:\r\n",
        "        real_pos += 1\r\n",
        "    elif np.argmax(y_test[i])==1:    \r\n",
        "        real_neu += 1\r\n",
        "    else:\r\n",
        "        real_neg +=1\r\n",
        "\r\n",
        "print('Positive predictions:', pos_count)\r\n",
        "print('Neutral predictions:', neu_count)\r\n",
        "print('Negative predictions:', neg_count)\r\n",
        "print('Real positive:', real_pos)\r\n",
        "print('Real neutral:', real_neu)\r\n",
        "print('Real negative:', real_neg)"
      ],
      "execution_count": null,
      "outputs": [
        {
          "output_type": "stream",
          "text": [
            "Positive predictions: 139\n",
            "Neutral predictions: 220\n",
            "Negative predictions: 148\n",
            "Real positive: 130\n",
            "Real neutral: 201\n",
            "Real negative: 176\n"
          ],
          "name": "stdout"
        }
      ]
    }
  ]
}